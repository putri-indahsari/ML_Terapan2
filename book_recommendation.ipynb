{
  "cells": [
    {
      "cell_type": "markdown",
      "id": "SMgTOTCLXzWI",
      "metadata": {
        "id": "SMgTOTCLXzWI"
      },
      "source": [
        "# **Sistem Rekomendasi Buku Berbasis Hybrid Approach (Content-Based Filtering dan Collaborative Filtering)**\n",
        "\n",
        "# Sumber Data dan Rujukan\n",
        "**Dataset:** [Book Recomendation Dataset](https://www.kaggle.com/code/fahadmehfoooz/book-recommendation-system/notebook)\n",
        "\n",
        "* Dua file utama yang akan digunakan:\n",
        "\n",
        "  * `Books.csv` — metadata buku (yang berisi ISBN', 'Book-Title', 'Book-Author', 'Year-Of-Publication', 'Publisher',\n",
        "       'Image-URL-S', 'Image-URL-M', 'Image-URL-L')\n",
        "  * `user_rating` — hasil merge `Ratings.csv dan Users.csv` yang berisi 'User-ID', 'ISBN', 'Book-Rating', 'Location', 'Age'"
      ]
    },
    {
      "cell_type": "markdown",
      "id": "33efc877",
      "metadata": {
        "_cell_guid": "61b565ea-3a58-4528-be6f-c0ae9eb22414",
        "_uuid": "f9332dc9-f8b8-45ec-94d3-1848f0c11447",
        "collapsed": false,
        "id": "33efc877",
        "jupyter": {
          "outputs_hidden": false
        }
      },
      "source": [
        "# Instal dan Import Library"
      ]
    },
    {
      "cell_type": "code",
      "execution_count": 1,
      "id": "gg62jTxyL4tF",
      "metadata": {
        "colab": {
          "base_uri": "https://localhost:8080/"
        },
        "id": "gg62jTxyL4tF",
        "outputId": "450ebd46-451f-4c6e-c1a6-51634b686507"
      },
      "outputs": [
        {
          "name": "stdout",
          "output_type": "stream",
          "text": [
            "Requirement already satisfied: numpy==1.26.4 in /usr/local/lib/python3.11/dist-packages (1.26.4)\n"
          ]
        }
      ],
      "source": [
        "!pip install numpy==1.26.4"
      ]
    },
    {
      "cell_type": "markdown",
      "id": "11TUO1wB0J2_",
      "metadata": {
        "id": "11TUO1wB0J2_"
      },
      "source": [
        "menginstal versi tertentu dari library NumPy, yaitu versi 1.26.4,untuk Mencegah error kompatibilitas dengan library surprise."
      ]
    },
    {
      "cell_type": "code",
      "execution_count": 2,
      "id": "6Z-nQXI7IpR2",
      "metadata": {
        "colab": {
          "base_uri": "https://localhost:8080/"
        },
        "id": "6Z-nQXI7IpR2",
        "outputId": "b756d464-f072-4cf8-f35a-63831edb4a14"
      },
      "outputs": [
        {
          "name": "stdout",
          "output_type": "stream",
          "text": [
            "Collecting scikit-surprise\n",
            "  Downloading scikit_surprise-1.1.4.tar.gz (154 kB)\n",
            "\u001b[?25l     \u001b[90m━━━━━━━━━━━━━━━━━━━━━━━━━━━━━━━━━━━━━━━━\u001b[0m \u001b[32m0.0/154.4 kB\u001b[0m \u001b[31m?\u001b[0m eta \u001b[36m-:--:--\u001b[0m\r\u001b[2K     \u001b[90m━━━━━━━━━━━━━━━━━━━━━━━━━━━━━━━━━━━━━━━\u001b[0m \u001b[32m154.4/154.4 kB\u001b[0m \u001b[31m5.4 MB/s\u001b[0m eta \u001b[36m0:00:00\u001b[0m\n",
            "\u001b[?25h  Installing build dependencies ... \u001b[?25l\u001b[?25hdone\n",
            "  Getting requirements to build wheel ... \u001b[?25l\u001b[?25hdone\n",
            "  Preparing metadata (pyproject.toml) ... \u001b[?25l\u001b[?25hdone\n",
            "Requirement already satisfied: joblib>=1.2.0 in /usr/local/lib/python3.11/dist-packages (from scikit-surprise) (1.5.1)\n",
            "Requirement already satisfied: numpy>=1.19.5 in /usr/local/lib/python3.11/dist-packages (from scikit-surprise) (1.26.4)\n",
            "Requirement already satisfied: scipy>=1.6.0 in /usr/local/lib/python3.11/dist-packages (from scikit-surprise) (1.15.3)\n",
            "Building wheels for collected packages: scikit-surprise\n",
            "  Building wheel for scikit-surprise (pyproject.toml) ... \u001b[?25l\u001b[?25hdone\n",
            "  Created wheel for scikit-surprise: filename=scikit_surprise-1.1.4-cp311-cp311-linux_x86_64.whl size=2469542 sha256=cd4ec1e06ee43a10794db92ae23bd78c2465270df344883fafbd0b7c9f618a05\n",
            "  Stored in directory: /root/.cache/pip/wheels/2a/8f/6e/7e2899163e2d85d8266daab4aa1cdabec7a6c56f83c015b5af\n",
            "Successfully built scikit-surprise\n",
            "Installing collected packages: scikit-surprise\n",
            "Successfully installed scikit-surprise-1.1.4\n"
          ]
        }
      ],
      "source": [
        "!pip install scikit-surprise"
      ]
    },
    {
      "cell_type": "markdown",
      "id": "rMCHxXXS0PUx",
      "metadata": {
        "id": "rMCHxXXS0PUx"
      },
      "source": [
        "instal surprice -library yang khusus untuk membangun sistem rekomendasi"
      ]
    },
    {
      "cell_type": "code",
      "execution_count": 70,
      "id": "40-6lpPqVGfy",
      "metadata": {
        "id": "40-6lpPqVGfy"
      },
      "outputs": [],
      "source": [
        "import pandas as pd\n",
        "import numpy as np\n",
        "import matplotlib.pyplot as plt\n",
        "import seaborn as sns\n",
        "import pickle\n",
        "sns.set(style='whitegrid')\n",
        "from sklearn.feature_extraction.text import TfidfVectorizer\n",
        "from sklearn.metrics.pairwise import cosine_similarity\n",
        "from surprise import Reader, Dataset, SVD , accuracy\n",
        "from surprise.model_selection import train_test_split\n",
        "from surprise.model_selection import cross_validate\n",
        "from sklearn.metrics.pairwise import cosine_similarity\n",
        "\n",
        "from collections import defaultdict\n",
        "from surprise.model_selection import train_test_split"
      ]
    },
    {
      "cell_type": "markdown",
      "id": "-ZAGXGDgs1Ni",
      "metadata": {
        "id": "-ZAGXGDgs1Ni"
      },
      "source": [
        "pertama import library yang digunakan:\n",
        "- pandas : Mengolah dan menganalisis data dalam bentuk dataframe.\n",
        "- numpy : Mengolah array dan matriks numerik.\n",
        "- matplotlib.pyplot : Membuat visualisasi data dalam bentuk grafik dan plot.\n",
        "- seaborn : Membuat visualisasi data yang lebih estetis dan informatif.\n"
      ]
    },
    {
      "cell_type": "code",
      "execution_count": 5,
      "id": "1dc212e9",
      "metadata": {
        "_cell_guid": "3fab83fe-4965-4237-9924-57b9e922bea9",
        "_uuid": "ca69f408-6b30-498a-915c-de42ac34ab6f",
        "colab": {
          "base_uri": "https://localhost:8080/"
        },
        "execution": {
          "iopub.execute_input": "2025-05-25T23:29:24.721292Z",
          "iopub.status.busy": "2025-05-25T23:29:24.720637Z",
          "iopub.status.idle": "2025-05-25T23:29:24.729486Z",
          "shell.execute_reply": "2025-05-25T23:29:24.728793Z",
          "shell.execute_reply.started": "2025-05-25T23:29:24.721264Z"
        },
        "id": "1dc212e9",
        "jupyter": {
          "outputs_hidden": false
        },
        "outputId": "8856388a-ab74-4409-b9a5-1d7ebdd0592d"
      },
      "outputs": [
        {
          "name": "stdout",
          "output_type": "stream",
          "text": [
            "Mounted at /content/drive\n"
          ]
        }
      ],
      "source": [
        "from google.colab import drive\n",
        "drive.mount('/content/drive')"
      ]
    },
    {
      "cell_type": "markdown",
      "id": "QKh47G1dtaoO",
      "metadata": {
        "id": "QKh47G1dtaoO"
      },
      "source": [
        "menghubungkan ke drive"
      ]
    },
    {
      "cell_type": "code",
      "execution_count": 6,
      "id": "bABxHXr7vguV",
      "metadata": {
        "colab": {
          "base_uri": "https://localhost:8080/"
        },
        "id": "bABxHXr7vguV",
        "outputId": "6f21b4d2-63fa-4b61-ba8b-d3f6a50588f5"
      },
      "outputs": [
        {
          "name": "stderr",
          "output_type": "stream",
          "text": [
            "/tmp/ipython-input-6-2552064112.py:1: DtypeWarning: Columns (3) have mixed types. Specify dtype option on import or set low_memory=False.\n",
            "  book_df = pd.read_csv('/content/drive/MyDrive/all_data/Books.csv')\n"
          ]
        }
      ],
      "source": [
        "book_df = pd.read_csv('/content/drive/MyDrive/all_data/Books.csv')\n",
        "ratings_df = pd.read_csv('/content/drive/MyDrive/all_data/Ratings.csv').sample(40000)\n",
        "user_df = pd.read_csv('/content/drive/MyDrive/all_data/Users.csv')\n",
        "user_rating_df = ratings_df.merge(user_df, left_on = 'User-ID', right_on = 'User-ID')"
      ]
    },
    {
      "cell_type": "markdown",
      "id": "ErmLzoDPtd-B",
      "metadata": {
        "id": "ErmLzoDPtd-B"
      },
      "source": [
        "memanggil data.csv dan melakukan merge(penggabungan data) dataframe ratings_df dan user_df berdasarkan kolom User-ID. Hasilnya disimpan dalam dataframe user_rating_df"
      ]
    },
    {
      "cell_type": "code",
      "execution_count": 7,
      "id": "LMoKsPE-eHuq",
      "metadata": {
        "colab": {
          "base_uri": "https://localhost:8080/"
        },
        "id": "LMoKsPE-eHuq",
        "outputId": "164c7592-d213-4138-a8af-ad0c29a8359b"
      },
      "outputs": [
        {
          "name": "stdout",
          "output_type": "stream",
          "text": [
            "Kolom pada book_df: Index(['ISBN', 'Book-Title', 'Book-Author', 'Year-Of-Publication', 'Publisher',\n",
            "       'Image-URL-S', 'Image-URL-M', 'Image-URL-L'],\n",
            "      dtype='object')\n",
            "Kolom pada user_rating_df: Index(['User-ID', 'ISBN', 'Book-Rating', 'Location', 'Age'], dtype='object')\n"
          ]
        }
      ],
      "source": [
        "print('Kolom pada book_df:', book_df.columns)\n",
        "print('Kolom pada user_rating_df:', user_rating_df.columns)"
      ]
    },
    {
      "cell_type": "markdown",
      "id": "wybS4wLit7s7",
      "metadata": {
        "id": "wybS4wLit7s7"
      },
      "source": [
        "melihat isi kolom book dan user rating"
      ]
    },
    {
      "cell_type": "markdown",
      "id": "9d11b813",
      "metadata": {
        "_cell_guid": "47040ee1-98bb-4000-8080-a7b6103c4710",
        "_uuid": "6e891384-b084-4b33-ab8e-e16542c3c03b",
        "collapsed": false,
        "id": "9d11b813",
        "jupyter": {
          "outputs_hidden": false
        }
      },
      "source": [
        "# EDA (Eksplanatory Data Analisis)"
      ]
    },
    {
      "cell_type": "code",
      "execution_count": 8,
      "id": "fb75dc33",
      "metadata": {
        "_cell_guid": "3a4c73a4-4c2e-4681-b3db-3a9660d619fe",
        "_uuid": "c85bf9aa-7cb6-4081-b034-68a109a528de",
        "colab": {
          "base_uri": "https://localhost:8080/"
        },
        "execution": {
          "iopub.execute_input": "2025-05-25T23:27:10.571896Z",
          "iopub.status.busy": "2025-05-25T23:27:10.571587Z",
          "iopub.status.idle": "2025-05-25T23:27:10.585838Z",
          "shell.execute_reply": "2025-05-25T23:27:10.585218Z",
          "shell.execute_reply.started": "2025-05-25T23:27:10.571868Z"
        },
        "id": "fb75dc33",
        "jupyter": {
          "outputs_hidden": false
        },
        "outputId": "083dbda0-89ac-40c8-b726-1d7e91f9007c"
      },
      "outputs": [
        {
          "name": "stdout",
          "output_type": "stream",
          "text": [
            "         ISBN                                         Book-Title  \\\n",
            "0  0195153448                                Classical Mythology   \n",
            "1  0002005018                                       Clara Callan   \n",
            "2  0060973129                               Decision in Normandy   \n",
            "3  0374157065  Flu: The Story of the Great Influenza Pandemic...   \n",
            "4  0393045218                             The Mummies of Urumchi   \n",
            "\n",
            "            Book-Author Year-Of-Publication                   Publisher  \\\n",
            "0    Mark P. O. Morford                2002     Oxford University Press   \n",
            "1  Richard Bruce Wright                2001       HarperFlamingo Canada   \n",
            "2          Carlo D'Este                1991             HarperPerennial   \n",
            "3      Gina Bari Kolata                1999        Farrar Straus Giroux   \n",
            "4       E. J. W. Barber                1999  W. W. Norton &amp; Company   \n",
            "\n",
            "                                         Image-URL-S  \\\n",
            "0  http://images.amazon.com/images/P/0195153448.0...   \n",
            "1  http://images.amazon.com/images/P/0002005018.0...   \n",
            "2  http://images.amazon.com/images/P/0060973129.0...   \n",
            "3  http://images.amazon.com/images/P/0374157065.0...   \n",
            "4  http://images.amazon.com/images/P/0393045218.0...   \n",
            "\n",
            "                                         Image-URL-M  \\\n",
            "0  http://images.amazon.com/images/P/0195153448.0...   \n",
            "1  http://images.amazon.com/images/P/0002005018.0...   \n",
            "2  http://images.amazon.com/images/P/0060973129.0...   \n",
            "3  http://images.amazon.com/images/P/0374157065.0...   \n",
            "4  http://images.amazon.com/images/P/0393045218.0...   \n",
            "\n",
            "                                         Image-URL-L  \n",
            "0  http://images.amazon.com/images/P/0195153448.0...  \n",
            "1  http://images.amazon.com/images/P/0002005018.0...  \n",
            "2  http://images.amazon.com/images/P/0060973129.0...  \n",
            "3  http://images.amazon.com/images/P/0374157065.0...  \n",
            "4  http://images.amazon.com/images/P/0393045218.0...  \n"
          ]
        }
      ],
      "source": [
        "print (book_df.head())"
      ]
    },
    {
      "cell_type": "markdown",
      "id": "dOl8E63kuJ6J",
      "metadata": {
        "id": "dOl8E63kuJ6J"
      },
      "source": [
        "melihat 5 baris awal dasatet book"
      ]
    },
    {
      "cell_type": "code",
      "execution_count": 9,
      "id": "16e39f22",
      "metadata": {
        "_cell_guid": "20eba113-41ff-4b8d-bd0c-a80b3bccaa56",
        "_uuid": "07600a6a-4b4f-4578-9969-f540a1c82266",
        "colab": {
          "base_uri": "https://localhost:8080/"
        },
        "execution": {
          "iopub.execute_input": "2025-05-23T16:20:22.878408Z",
          "iopub.status.busy": "2025-05-23T16:20:22.878208Z",
          "iopub.status.idle": "2025-05-23T16:20:22.892639Z",
          "shell.execute_reply": "2025-05-23T16:20:22.891857Z",
          "shell.execute_reply.started": "2025-05-23T16:20:22.878392Z"
        },
        "id": "16e39f22",
        "jupyter": {
          "outputs_hidden": false
        },
        "outputId": "502dcfbd-7ef2-4d54-b63a-186f7c5c2a98"
      },
      "outputs": [
        {
          "name": "stdout",
          "output_type": "stream",
          "text": [
            "        User-ID        ISBN  Book-Rating\n",
            "606902   146457  0446862541            9\n",
            "429232   102647  0316037451            0\n",
            "962193   232131  0671638483            0\n",
            "606603   146348  0805057900            0\n",
            "446600   107021  0740719645            0\n"
          ]
        }
      ],
      "source": [
        "print(ratings_df.head())"
      ]
    },
    {
      "cell_type": "markdown",
      "id": "tAjffZgXuSdy",
      "metadata": {
        "id": "tAjffZgXuSdy"
      },
      "source": [
        "5 kolom awal ratings"
      ]
    },
    {
      "cell_type": "code",
      "execution_count": 10,
      "id": "7F1qki8iwzN0",
      "metadata": {
        "colab": {
          "base_uri": "https://localhost:8080/"
        },
        "id": "7F1qki8iwzN0",
        "outputId": "9a3e2e28-bbc5-4166-d1da-9d70c67bd985"
      },
      "outputs": [
        {
          "name": "stdout",
          "output_type": "stream",
          "text": [
            "   User-ID                            Location   Age\n",
            "0        1                  nyc, new york, usa   NaN\n",
            "1        2           stockton, california, usa  18.0\n",
            "2        3     moscow, yukon territory, russia   NaN\n",
            "3        4           porto, v.n.gaia, portugal  17.0\n",
            "4        5  farnborough, hants, united kingdom   NaN\n"
          ]
        }
      ],
      "source": [
        "print(user_df.head())"
      ]
    },
    {
      "cell_type": "markdown",
      "id": "9TWaoRxNuWxk",
      "metadata": {
        "id": "9TWaoRxNuWxk"
      },
      "source": [
        "melihat 5 kolom awal users"
      ]
    },
    {
      "cell_type": "code",
      "execution_count": 11,
      "id": "2GATdCA6w5XA",
      "metadata": {
        "colab": {
          "base_uri": "https://localhost:8080/"
        },
        "id": "2GATdCA6w5XA",
        "outputId": "dca70ad8-9b61-47c7-c272-4ffe8dfe7104"
      },
      "outputs": [
        {
          "name": "stdout",
          "output_type": "stream",
          "text": [
            "   User-ID        ISBN  Book-Rating                    Location   Age\n",
            "0   146457  0446862541            9    alameda, california, usa  43.0\n",
            "1   102647  0316037451            0    modesto, california, usa  14.0\n",
            "2   232131  0671638483            0    oakland, california, usa   NaN\n",
            "3   146348  0805057900            0         tigard, oregon, usa   NaN\n",
            "4   107021  0740719645            0  indianapolis, indiana, usa  45.0\n"
          ]
        }
      ],
      "source": [
        "print(user_rating_df.head())"
      ]
    },
    {
      "cell_type": "markdown",
      "id": "hjOE5hERufX0",
      "metadata": {
        "id": "hjOE5hERufX0"
      },
      "source": [
        "melihat 5 kolom awal user_rating"
      ]
    },
    {
      "cell_type": "code",
      "execution_count": 12,
      "id": "dlfBidg_xE62",
      "metadata": {
        "colab": {
          "base_uri": "https://localhost:8080/"
        },
        "id": "dlfBidg_xE62",
        "outputId": "7fa8d7be-2eed-4f97-aea6-d443f490d331"
      },
      "outputs": [
        {
          "name": "stdout",
          "output_type": "stream",
          "text": [
            "\n",
            "book_df info:\n",
            "<class 'pandas.core.frame.DataFrame'>\n",
            "RangeIndex: 271360 entries, 0 to 271359\n",
            "Data columns (total 8 columns):\n",
            " #   Column               Non-Null Count   Dtype \n",
            "---  ------               --------------   ----- \n",
            " 0   ISBN                 271360 non-null  object\n",
            " 1   Book-Title           271360 non-null  object\n",
            " 2   Book-Author          271358 non-null  object\n",
            " 3   Year-Of-Publication  271360 non-null  object\n",
            " 4   Publisher            271358 non-null  object\n",
            " 5   Image-URL-S          271360 non-null  object\n",
            " 6   Image-URL-M          271360 non-null  object\n",
            " 7   Image-URL-L          271357 non-null  object\n",
            "dtypes: object(8)\n",
            "memory usage: 16.6+ MB\n",
            "\n",
            "ratings_df info:\n",
            "<class 'pandas.core.frame.DataFrame'>\n",
            "Index: 40000 entries, 606902 to 217580\n",
            "Data columns (total 3 columns):\n",
            " #   Column       Non-Null Count  Dtype \n",
            "---  ------       --------------  ----- \n",
            " 0   User-ID      40000 non-null  int64 \n",
            " 1   ISBN         40000 non-null  object\n",
            " 2   Book-Rating  40000 non-null  int64 \n",
            "dtypes: int64(2), object(1)\n",
            "memory usage: 1.2+ MB\n",
            "\n",
            "user_df info:\n",
            "<class 'pandas.core.frame.DataFrame'>\n",
            "RangeIndex: 278858 entries, 0 to 278857\n",
            "Data columns (total 3 columns):\n",
            " #   Column    Non-Null Count   Dtype  \n",
            "---  ------    --------------   -----  \n",
            " 0   User-ID   278858 non-null  int64  \n",
            " 1   Location  278858 non-null  object \n",
            " 2   Age       168096 non-null  float64\n",
            "dtypes: float64(1), int64(1), object(1)\n",
            "memory usage: 6.4+ MB\n",
            "\n",
            "user_rating_df info:\n",
            "<class 'pandas.core.frame.DataFrame'>\n",
            "RangeIndex: 40000 entries, 0 to 39999\n",
            "Data columns (total 5 columns):\n",
            " #   Column       Non-Null Count  Dtype  \n",
            "---  ------       --------------  -----  \n",
            " 0   User-ID      40000 non-null  int64  \n",
            " 1   ISBN         40000 non-null  object \n",
            " 2   Book-Rating  40000 non-null  int64  \n",
            " 3   Location     40000 non-null  object \n",
            " 4   Age          29276 non-null  float64\n",
            "dtypes: float64(1), int64(2), object(2)\n",
            "memory usage: 1.5+ MB\n"
          ]
        }
      ],
      "source": [
        "print(\"\\nbook_df info:\")\n",
        "book_df.info()\n",
        "\n",
        "print(\"\\nratings_df info:\")\n",
        "ratings_df.info()\n",
        "\n",
        "print(\"\\nuser_df info:\")\n",
        "user_df.info()\n",
        "\n",
        "print(\"\\nuser_rating_df info:\")\n",
        "user_rating_df.info()"
      ]
    },
    {
      "cell_type": "markdown",
      "id": "tMNj-sXFuuzM",
      "metadata": {
        "id": "tMNj-sXFuuzM"
      },
      "source": [
        "insight\n",
        "\n",
        "book_df: 271.360 baris data buku\n",
        "- Tidak ada missing value yang signifikan\n",
        "- Semua kolom memiliki tipe data object (string)\n",
        "\n",
        "ratings_df: 40.000 baris data rating (sampel)\n",
        "- Tidak ada missing value\n",
        "- Kolom User-ID dan Book-Rating memiliki tipe data integer dan isbn object\n",
        "\n",
        "user_df: 278.858 baris data pengguna\n",
        "- Ada missing value pada kolom Age (sekitar 39% data tidak memiliki nilai Age)\n",
        "- Kolom User-ID memiliki tipe data integer, Age memiliki tipe data float\n",
        "\n",
        "user_rating_df:\n",
        "- 40.000 baris data rating yang digabungkan dengan data pengguna\n",
        "- Ada missing value pada kolom Age (sekitar 27% data tidak memiliki nilai Age)\n",
        "\n"
      ]
    },
    {
      "cell_type": "code",
      "execution_count": 13,
      "id": "cr6vseZyWQFP",
      "metadata": {
        "colab": {
          "base_uri": "https://localhost:8080/"
        },
        "id": "cr6vseZyWQFP",
        "outputId": "307df35b-254d-4ab9-d170-d95a6c263cbb"
      },
      "outputs": [
        {
          "name": "stdout",
          "output_type": "stream",
          "text": [
            "Jumlah missing values di book_df:\n",
            "ISBN                   0\n",
            "Book-Title             0\n",
            "Book-Author            2\n",
            "Year-Of-Publication    0\n",
            "Publisher              2\n",
            "Image-URL-S            0\n",
            "Image-URL-M            0\n",
            "Image-URL-L            3\n",
            "dtype: int64\n",
            "\n",
            "Jumlah data duplikat: 0\n"
          ]
        }
      ],
      "source": [
        "print(\"Jumlah missing values di book_df:\")\n",
        "print(book_df.isnull().sum())\n",
        "print(\"\\nJumlah data duplikat:\", book_df.duplicated().sum())"
      ]
    },
    {
      "cell_type": "markdown",
      "id": "8l0pBThgwEnB",
      "metadata": {
        "id": "8l0pBThgwEnB"
      },
      "source": [
        "insight :\n",
        "- Kolom Book-Author dan publisher memiliki 2 missing values\n",
        "- Kolom Image-URL-L memiliki 3 missing values\n",
        "- Jumlah data duplikat tidak ada data duplikat (0 baris)"
      ]
    },
    {
      "cell_type": "code",
      "execution_count": 14,
      "id": "SBniCwwBWSPe",
      "metadata": {
        "colab": {
          "base_uri": "https://localhost:8080/"
        },
        "id": "SBniCwwBWSPe",
        "outputId": "707b5752-52c3-4f1f-d427-ef529626b3ef"
      },
      "outputs": [
        {
          "name": "stdout",
          "output_type": "stream",
          "text": [
            "Jumlah missing values di user_rating_df:\n",
            "User-ID            0\n",
            "ISBN               0\n",
            "Book-Rating        0\n",
            "Location           0\n",
            "Age            10724\n",
            "dtype: int64\n",
            "\n",
            "Jumlah data duplikat: 0\n"
          ]
        }
      ],
      "source": [
        "print(\"Jumlah missing values di user_rating_df:\")\n",
        "print(user_rating_df.isnull().sum())\n",
        "print(\"\\nJumlah data duplikat:\", user_rating_df.duplicated().sum())"
      ]
    },
    {
      "cell_type": "markdown",
      "id": "B-5Ebsy9yM0l",
      "metadata": {
        "id": "B-5Ebsy9yM0l"
      },
      "source": [
        "insight\n",
        "- Kolom Age memiliki 10.724 missing values\n",
        "- Kolom lainnya tidak memiliki missing values\n",
        "- Tidak ada data duplikat (0 baris)\n"
      ]
    },
    {
      "cell_type": "code",
      "execution_count": 15,
      "id": "jBpd1SmbkSz4",
      "metadata": {
        "colab": {
          "base_uri": "https://localhost:8080/",
          "height": 482
        },
        "id": "jBpd1SmbkSz4",
        "outputId": "9ef4bab0-28ba-40f4-8f40-f84046d6ff84"
      },
      "outputs": [
        {
          "data": {
            "image/png": "[encoded data removed]",
            "text/plain": [
              "<Figure size 1000x600 with 1 Axes>"
            ]
          },
          "metadata": {},
          "output_type": "display_data"
        }
      ],
      "source": [
        "plt.figure(figsize=(10, 6))\n",
        "book_df['Book-Author'].value_counts().head(10).plot(kind='bar')\n",
        "plt.title('10 Penulis dengan Buku Terbanyak')\n",
        "plt.xlabel('Penulis')\n",
        "plt.ylabel('Jumlah Buku')\n",
        "plt.xticks(rotation=45, ha='right')\n",
        "plt.tight_layout()\n",
        "plt.show()"
      ]
    },
    {
      "cell_type": "markdown",
      "id": "pIV97-7pzStj",
      "metadata": {
        "id": "pIV97-7pzStj"
      },
      "source": [
        "- Top 10 Penulis diisi oleh nama-nama besar dalam dunia fiksi seperti Agatha Christie, Stephen King, dan William Shakespeare."
      ]
    },
    {
      "cell_type": "code",
      "execution_count": 16,
      "id": "YNz2HzdVkzAD",
      "metadata": {
        "colab": {
          "base_uri": "https://localhost:8080/",
          "height": 482
        },
        "id": "YNz2HzdVkzAD",
        "outputId": "ecf35749-2c7d-4e87-ce4e-d3634fa40257"
      },
      "outputs": [
        {
          "data": {
            "image/png": "[encoded data removed]",
            "text/plain": [
              "<Figure size 1000x600 with 1 Axes>"
            ]
          },
          "metadata": {},
          "output_type": "display_data"
        }
      ],
      "source": [
        "plt.figure(figsize=(10, 6))\n",
        "book_df['Publisher'].value_counts().head(10).plot(kind='bar')\n",
        "plt.title('10 Penerbit dengan Buku Terbanyak')\n",
        "plt.xlabel('Penerbit')\n",
        "plt.ylabel('Jumlah Buku')\n",
        "plt.xticks(rotation=45, ha='right')\n",
        "plt.tight_layout()\n",
        "plt.show()"
      ]
    },
    {
      "cell_type": "markdown",
      "id": "EsdPyycs1pAd",
      "metadata": {
        "id": "EsdPyycs1pAd"
      },
      "source": [
        "- Top 10 Penerbit didominasi oleh penerbit-penerbit besar yang terkenal dengan buku fiksi pasar massal seperti Harlequin, Silhouette, dan Pocket."
      ]
    },
    {
      "cell_type": "code",
      "execution_count": 17,
      "id": "9j0Eo94OkHiD",
      "metadata": {
        "colab": {
          "base_uri": "https://localhost:8080/"
        },
        "id": "9j0Eo94OkHiD",
        "outputId": "03cb9d18-1f3c-4c86-c6f0-b5a34dfc4e17"
      },
      "outputs": [
        {
          "name": "stdout",
          "output_type": "stream",
          "text": [
            "Rata-rata rating buku: 2.88\n"
          ]
        }
      ],
      "source": [
        "rata_rata_rating_buku = user_rating_df['Book-Rating'].mean()\n",
        "print(f\"Rata-rata rating buku: {rata_rata_rating_buku:.2f}\")"
      ]
    },
    {
      "cell_type": "markdown",
      "id": "xheMaovE0X9j",
      "metadata": {
        "id": "xheMaovE0X9j"
      },
      "source": [
        "insght :rata-rata rating buku (2.88) menjadi sangat rendah. Perilaku ini harus ditangani secara khusus."
      ]
    },
    {
      "cell_type": "code",
      "execution_count": 18,
      "id": "2dDqxHW-lFQ6",
      "metadata": {
        "colab": {
          "base_uri": "https://localhost:8080/",
          "height": 551
        },
        "id": "2dDqxHW-lFQ6",
        "outputId": "73f2e087-4393-4ab2-c306-30851c97d90f"
      },
      "outputs": [
        {
          "name": "stderr",
          "output_type": "stream",
          "text": [
            "/tmp/ipython-input-18-543331511.py:2: FutureWarning: \n",
            "\n",
            "Passing `palette` without assigning `hue` is deprecated and will be removed in v0.14.0. Assign the `x` variable to `hue` and set `legend=False` for the same effect.\n",
            "\n",
            "  sns.countplot(x='Book-Rating', data=user_rating_df, palette='rocket')\n"
          ]
        },
        {
          "data": {
            "image/png": "[encoded data removed]",
            "text/plain": [
              "<Figure size 1000x500 with 1 Axes>"
            ]
          },
          "metadata": {},
          "output_type": "display_data"
        }
      ],
      "source": [
        "plt.figure(figsize=(10, 5))\n",
        "sns.countplot(x='Book-Rating', data=user_rating_df, palette='rocket')\n",
        "plt.title('Distribusi Rating Buku')\n",
        "plt.xlabel('Rating')\n",
        "plt.ylabel('Jumlah')\n",
        "plt.show()"
      ]
    },
    {
      "cell_type": "markdown",
      "id": "VMgDWjjHzhlr",
      "metadata": {
        "id": "VMgDWjjHzhlr"
      },
      "source": [
        " insight : terlihat bahwa rating 0 sangat mendominasi. Dalam konteks dataset ini, rating 0 sering diartikan sebagai rating implisit (pengguna berinteraksi dengan buku tapi tidak memberi skor),Ini perlu jadi pertimbangan saat data preparation."
      ]
    },
    {
      "cell_type": "code",
      "execution_count": 19,
      "id": "SI5s_8YllN0H",
      "metadata": {
        "colab": {
          "base_uri": "https://localhost:8080/",
          "height": 449
        },
        "id": "SI5s_8YllN0H",
        "outputId": "894aa65f-bb69-463c-b332-5c1d41f10244"
      },
      "outputs": [
        {
          "data": {
            "image/png": "[encoded data removed]",
            "text/plain": [
              "<Figure size 1000x500 with 1 Axes>"
            ]
          },
          "metadata": {},
          "output_type": "display_data"
        }
      ],
      "source": [
        "plt.figure(figsize=(10, 5))\n",
        "sns.histplot(user_rating_df['Age'].dropna(), bins=30, kde=True)\n",
        "plt.title('Distribusi Umur Pengguna')\n",
        "plt.xlabel('Umur')\n",
        "plt.ylabel('Frekuensi')\n",
        "plt.show()"
      ]
    },
    {
      "cell_type": "markdown",
      "id": "WvMq1Gotm-nK",
      "metadata": {
        "id": "WvMq1Gotm-nK"
      },
      "source": [
        "insight: terlihat data umur yang tidak realistis (yakni > 100 atau < 5) perlu dibersihkan."
      ]
    },
    {
      "cell_type": "code",
      "execution_count": 20,
      "id": "pxkDUMJVnTVq",
      "metadata": {
        "colab": {
          "base_uri": "https://localhost:8080/"
        },
        "id": "pxkDUMJVnTVq",
        "outputId": "19813940-1947-4194-d2e3-442042ae4610"
      },
      "outputs": [
        {
          "name": "stdout",
          "output_type": "stream",
          "text": [
            "Rata-rata rating per pengguna: 2.84\n",
            "Rata-rata rating per buku: 1.34\n"
          ]
        }
      ],
      "source": [
        "user_rating_counts = user_rating_df['User-ID'].value_counts()\n",
        "book_rating_counts = user_rating_df['ISBN'].value_counts()\n",
        "\n",
        "print(f\"Rata-rata rating per pengguna: {user_rating_counts.mean():.2f}\")\n",
        "print(f\"Rata-rata rating per buku: {book_rating_counts.mean():.2f}\")"
      ]
    },
    {
      "cell_type": "markdown",
      "id": "s5PHD-O40v3d",
      "metadata": {
        "id": "s5PHD-O40v3d"
      },
      "source": [
        "insight : Rata-rata rating per buku\" hanya 1.33(kemungkinan sebagian besar buku dalam dataset ini hanya pernah diberi rating oleh satu atau dua orang)"
      ]
    },
    {
      "cell_type": "code",
      "execution_count": 21,
      "id": "ANT3M5GqpfPK",
      "metadata": {
        "colab": {
          "base_uri": "https://localhost:8080/"
        },
        "id": "ANT3M5GqpfPK",
        "outputId": "931bff43-12e2-4426-866f-86b6621b1e64"
      },
      "outputs": [
        {
          "name": "stdout",
          "output_type": "stream",
          "text": [
            "Tahun-tahun publikasi yang unik (setelah konversi):\n",
            "[0, 1376, 1378, 1806, 1897, 1900, 1901, 1902, 1904, 1906, 1908, 1909, 1910, 1911, 1914, 1917, 1919, 1920, 1921, 1922, 1923, 1924, 1925, 1926, 1927, 1928, 1929, 1930, 1931, 1932, 1933, 1934, 1935, 1936, 1937, 1938, 1939, 1940, 1941, 1942, 1943, 1944, 1945, 1946, 1947, 1948, 1949, 1950, 1951, 1952, 1953, 1954, 1955, 1956, 1957, 1958, 1959, 1960, 1961, 1962, 1963, 1964, 1965, 1966, 1967, 1968, 1969, 1970, 1971, 1972, 1973, 1974, 1975, 1976, 1977, 1978, 1979, 1980, 1981, 1982, 1983, 1984, 1985, 1986, 1987, 1988, 1989, 1990, 1991, 1992, 1993, 1994, 1995, 1996, 1997, 1998, 1999, 2000, 2001, 2002, 2003, 2004, 2005, 2006, 2008, 2010, 2011, 2012, 2020, 2021, 2024, 2026, 2030, 2037, 2038, 2050]\n"
          ]
        },
        {
          "name": "stderr",
          "output_type": "stream",
          "text": [
            "/tmp/ipython-input-21-178748162.py:3: SettingWithCopyWarning: \n",
            "A value is trying to be set on a copy of a slice from a DataFrame.\n",
            "Try using .loc[row_indexer,col_indexer] = value instead\n",
            "\n",
            "See the caveats in the documentation: https://pandas.pydata.org/pandas-docs/stable/user_guide/indexing.html#returning-a-view-versus-a-copy\n",
            "  book_df['Year-Of-Publication'] = book_df['Year-Of-Publication'].astype(int)\n"
          ]
        }
      ],
      "source": [
        "book_df['Year-Of-Publication'] = pd.to_numeric(book_df['Year-Of-Publication'], errors='coerce')\n",
        "book_df = book_df.dropna(subset=['Year-Of-Publication'])\n",
        "book_df['Year-Of-Publication'] = book_df['Year-Of-Publication'].astype(int)\n",
        "print(\"Tahun-tahun publikasi yang unik (setelah konversi):\")\n",
        "print(sorted(book_df['Year-Of-Publication'].dropna().unique()))"
      ]
    },
    {
      "cell_type": "markdown",
      "id": "H_SjikbL2gxW",
      "metadata": {
        "id": "H_SjikbL2gxW"
      },
      "source": [
        "- mengubah tipe data Year-Of-Publication yang bertipe object,menjadi angka."
      ]
    },
    {
      "cell_type": "code",
      "execution_count": 22,
      "id": "3o7kSl9VqtsG",
      "metadata": {
        "colab": {
          "base_uri": "https://localhost:8080/"
        },
        "id": "3o7kSl9VqtsG",
        "outputId": "6917a715-fe6e-45ae-9eaa-ac44a5b28168"
      },
      "outputs": [
        {
          "name": "stdout",
          "output_type": "stream",
          "text": [
            "Statistik Deskriptif untuk Kolom Umur:\n",
            "count    29276.000000\n",
            "mean        37.323268\n",
            "std         14.510020\n",
            "min          0.000000\n",
            "25%         28.000000\n",
            "50%         35.000000\n",
            "75%         45.000000\n",
            "max        244.000000\n",
            "Name: Age, dtype: float64\n"
          ]
        }
      ],
      "source": [
        "print(\"Statistik Deskriptif untuk Kolom Umur:\")\n",
        "print(user_rating_df['Age'].describe())"
      ]
    },
    {
      "cell_type": "markdown",
      "id": "9TtCpAw00mtV",
      "metadata": {
        "id": "9TtCpAw00mtV"
      },
      "source": [
        "insight :Data usia mengandung informasi berguna, tapi juga memiliki banyak nilai tidak wajar. Oleh karena itu, sebelum digunakan untuk analisis lebih lanjut atau modeling, perlu dilakukan pembersihan (data cleaning) terhadap kolom ini.\n",
        "\n"
      ]
    },
    {
      "cell_type": "code",
      "execution_count": 23,
      "id": "z64jUymgrHun",
      "metadata": {
        "colab": {
          "base_uri": "https://localhost:8080/"
        },
        "id": "z64jUymgrHun",
        "outputId": "d31d5857-68de-4e2e-9241-226539e0a4ea"
      },
      "outputs": [
        {
          "name": "stdout",
          "output_type": "stream",
          "text": [
            "Jumlah data setelah dibersihkan: 25699\n"
          ]
        }
      ],
      "source": [
        "correlation_df = pd.merge(user_rating_df, book_df[['ISBN', 'Year-Of-Publication']], on='ISBN', how='left')\n",
        "\n",
        "cleaned_corr_df = correlation_df.dropna(subset=['Year-Of-Publication', 'Age']) # Hapus baris dgn NaN di kolom ini\n",
        "cleaned_corr_df = cleaned_corr_df[\n",
        "    (cleaned_corr_df['Year-Of-Publication'] >= 1900) &\n",
        "    (cleaned_corr_df['Year-Of-Publication'] <= 2025)\n",
        "]\n",
        "\n",
        "cleaned_corr_df = cleaned_corr_df[\n",
        "    (cleaned_corr_df['Age'] >= 5) &\n",
        "    (cleaned_corr_df['Age'] <= 100)\n",
        "]\n",
        "\n",
        "print(f\"Jumlah data setelah dibersihkan: {len(cleaned_corr_df)}\")"
      ]
    },
    {
      "cell_type": "code",
      "execution_count": 24,
      "id": "O-pTdSNHrOY7",
      "metadata": {
        "colab": {
          "base_uri": "https://localhost:8080/",
          "height": 618
        },
        "id": "O-pTdSNHrOY7",
        "outputId": "1197b2ff-17cf-4c0e-ae6a-f77e6a8467a2"
      },
      "outputs": [
        {
          "data": {
            "image/png": "[encoded data removed]",
            "text/plain": [
              "<Figure size 800x600 with 2 Axes>"
            ]
          },
          "metadata": {},
          "output_type": "display_data"
        },
        {
          "name": "stdout",
          "output_type": "stream",
          "text": [
            "                          Age  Book-Rating  Year-Of-Publication\n",
            "Age                  1.000000    -0.024049            -0.020973\n",
            "Book-Rating         -0.024049     1.000000             0.045879\n",
            "Year-Of-Publication -0.020973     0.045879             1.000000\n"
          ]
        }
      ],
      "source": [
        "numerical_cols = cleaned_corr_df[['Age', 'Book-Rating', 'Year-Of-Publication']]\n",
        "\n",
        "correlation_matrix = numerical_cols.corr()\n",
        "\n",
        "plt.figure(figsize=(8, 6))\n",
        "sns.heatmap(\n",
        "    correlation_matrix,\n",
        "    annot=True,\n",
        "    cmap='coolwarm',\n",
        "    fmt=\".2f\"\n",
        ")\n",
        "plt.title('Heatmap Korelasi Antar Variabel Numerik')\n",
        "plt.show()\n",
        "\n",
        "print(correlation_matrix)"
      ]
    },
    {
      "cell_type": "markdown",
      "id": "gb8s17w68Any",
      "metadata": {
        "id": "gb8s17w68Any"
      },
      "source": [
        "- Age vs Book-Rating: -0.02 : Umur pengguna tidak menentukan apakah mereka akan memberi rating tinggi atau rendah. Pengguna muda, dewasa, maupun yang lebih tua memiliki kecenderungan rating yang serupa.\n",
        "- Age vs Year-Of-Publication: -0.02: Tidak ada tren yang menunjukkan bahwa pengguna dari kelompok umur tertentu lebih menyukai buku-buku dari era tertentu (misalnya, pengguna muda tidak secara signifikan lebih banyak membaca buku baru).\n",
        "- Book-Rating vs Year-Of-Publication: 0.05: Buku-buku baru tidak secara otomatis mendapatkan rating yang lebih tinggi dibandingkan buku-buku yang lebih tua, dan sebaliknya."
      ]
    },
    {
      "cell_type": "markdown",
      "id": "pzmhscLN9xZT",
      "metadata": {
        "id": "pzmhscLN9xZT"
      },
      "source": [
        "---"
      ]
    },
    {
      "cell_type": "markdown",
      "id": "fDQpTUHi9v4u",
      "metadata": {
        "id": "fDQpTUHi9v4u"
      },
      "source": [
        "# **Data Preparation**"
      ]
    },
    {
      "cell_type": "markdown",
      "id": "0JBhEYFgAwT0",
      "metadata": {
        "id": "0JBhEYFgAwT0"
      },
      "source": [
        "## Membersihkan Data Outlier dan Tidak Valid"
      ]
    },
    {
      "cell_type": "code",
      "execution_count": 25,
      "id": "8c_0zkbx-ncc",
      "metadata": {
        "colab": {
          "base_uri": "https://localhost:8080/"
        },
        "id": "8c_0zkbx-ncc",
        "outputId": "437cf0e4-bca1-4488-e593-f2bc30263723"
      },
      "outputs": [
        {
          "name": "stdout",
          "output_type": "stream",
          "text": [
            "Jumlah baris book_df sebelum dibersihkan: 271357\n"
          ]
        }
      ],
      "source": [
        "print(f\"Jumlah baris book_df sebelum dibersihkan: {len(book_df)}\")"
      ]
    },
    {
      "cell_type": "markdown",
      "id": "e0sum0qP_tUM",
      "metadata": {
        "id": "e0sum0qP_tUM"
      },
      "source": [
        "* melihat jumlah baris sebelum dibersihkan"
      ]
    },
    {
      "cell_type": "code",
      "execution_count": 26,
      "id": "1eclayWT_s0z",
      "metadata": {
        "id": "1eclayWT_s0z"
      },
      "outputs": [],
      "source": [
        "book_df['Year-Of-Publication'] = pd.to_numeric(book_df['Year-Of-Publication'], errors='coerce')"
      ]
    },
    {
      "cell_type": "markdown",
      "id": "-h07AQ-3_9mK",
      "metadata": {
        "id": "-h07AQ-3_9mK"
      },
      "source": [
        "* Mengubah 'Year-Of-Publication' ke numerik, error menjadi NaN"
      ]
    },
    {
      "cell_type": "code",
      "execution_count": 27,
      "id": "h9fqF1Vx_8Zv",
      "metadata": {
        "id": "h9fqF1Vx_8Zv"
      },
      "outputs": [],
      "source": [
        "book_df.dropna(subset=['Year-Of-Publication'], inplace=True) # Hapus baris dengan NaN di tahun\n",
        "book_df = book_df.loc[\n",
        "    (book_df['Year-Of-Publication'] >= 1900) &\n",
        "    (book_df['Year-Of-Publication'] <= 2025)\n",
        "]"
      ]
    },
    {
      "cell_type": "markdown",
      "id": "EEZhsGzkAGOP",
      "metadata": {
        "id": "EEZhsGzkAGOP"
      },
      "source": [
        "*  memfilter tahun yang valid (1900 - 2025) dan hapus NaN"
      ]
    },
    {
      "cell_type": "code",
      "execution_count": 28,
      "id": "Nsys4wYUAPHy",
      "metadata": {
        "colab": {
          "base_uri": "https://localhost:8080/"
        },
        "id": "Nsys4wYUAPHy",
        "outputId": "844dfee4-ccb7-45d7-80a6-6c9262ccec84"
      },
      "outputs": [
        {
          "name": "stdout",
          "output_type": "stream",
          "text": [
            "Jumlah baris book_df setelah dibersihkan: 266723\n"
          ]
        }
      ],
      "source": [
        "book_df['Year-Of-Publication'] = book_df['Year-Of-Publication'].astype(int)\n",
        "print(f\"Jumlah baris book_df setelah dibersihkan: {len(book_df)}\")"
      ]
    },
    {
      "cell_type": "markdown",
      "id": "InAYkpjGAVDX",
      "metadata": {
        "id": "InAYkpjGAVDX"
      },
      "source": [
        "*  Jumlah baris book_df setelah dibersihkan: 266723 dan konversi ke integer setelah dibersihkan"
      ]
    },
    {
      "cell_type": "code",
      "execution_count": 29,
      "id": "zLBClUKxAYKb",
      "metadata": {
        "id": "zLBClUKxAYKb"
      },
      "outputs": [],
      "source": [
        "user_rating_df.dropna(subset=['Age'], inplace=True) # Hapus baris dengan NaN di umur\n",
        "user_rating_df = user_rating_df.loc[\n",
        "    (user_rating_df['Age'] >= 5) &\n",
        "    (user_rating_df['Age'] <= 100) ]"
      ]
    },
    {
      "cell_type": "markdown",
      "id": "1a0f6fd3",
      "metadata": {},
      "source": [
        "* Pada kolom age data yang kosong dihapus (baris dengan NaN pada kolom Age dihapus). Setelah itu, dilakukan pembersihan outlier, yaitu usia di luar rentang 5 hingga 100 tahun."
      ]
    },
    {
      "cell_type": "markdown",
      "id": "iEO658D9BAPG",
      "metadata": {
        "id": "iEO658D9BAPG"
      },
      "source": [
        "## Preprocessing untuk Model Content-Based Filtering"
      ]
    },
    {
      "cell_type": "code",
      "execution_count": 30,
      "id": "Ddk3_xrkBI0J",
      "metadata": {
        "id": "Ddk3_xrkBI0J"
      },
      "outputs": [],
      "source": [
        "book_df.isnull().sum()\n",
        "book_df.dropna(subset=['Book-Author', 'Publisher'], inplace=True)"
      ]
    },
    {
      "cell_type": "markdown",
      "id": "HIgNBBX8BNZ2",
      "metadata": {
        "id": "HIgNBBX8BNZ2"
      },
      "source": [
        "* Cek missing values dan hapus baris jika 'Book-Author' atau 'Publisher' kosong"
      ]
    },
    {
      "cell_type": "code",
      "execution_count": 31,
      "id": "nrO-TzQZBXaS",
      "metadata": {
        "colab": {
          "base_uri": "https://localhost:8080/"
        },
        "id": "nrO-TzQZBXaS",
        "outputId": "932fc273-c674-4ded-d75c-12c4620021fc"
      },
      "outputs": [
        {
          "name": "stdout",
          "output_type": "stream",
          "text": [
            "Contoh fitur gabungan:\n",
            "            Book-Author                   Publisher  \\\n",
            "0    Mark P. O. Morford     Oxford University Press   \n",
            "1  Richard Bruce Wright       HarperFlamingo Canada   \n",
            "2          Carlo D'Este             HarperPerennial   \n",
            "3      Gina Bari Kolata        Farrar Straus Giroux   \n",
            "4       E. J. W. Barber  W. W. Norton &amp; Company   \n",
            "\n",
            "                                     features  \n",
            "0  Mark P. O. Morford Oxford University Press  \n",
            "1  Richard Bruce Wright HarperFlamingo Canada  \n",
            "2                Carlo D'Este HarperPerennial  \n",
            "3       Gina Bari Kolata Farrar Straus Giroux  \n",
            "4  E. J. W. Barber W. W. Norton &amp; Company  \n"
          ]
        }
      ],
      "source": [
        "book_df['features'] = book_df['Book-Author'] + ' ' + book_df['Publisher']\n",
        "\n",
        "print(\"Contoh fitur gabungan:\")\n",
        "print(book_df[['Book-Author', 'Publisher', 'features']].head())\n",
        "\n",
        "book_content_df = book_df.copy()"
      ]
    },
    {
      "cell_type": "markdown",
      "id": "HBows5CvBZ9R",
      "metadata": {
        "id": "HBows5CvBZ9R"
      },
      "source": [
        "* Gabungkan fitur penulis dan penerbit menjadi satu kolom 'features' dan menyimpan data yang siap pakai untuk model ini `book_content_df = book_df.copy()`"
      ]
    },
    {
      "cell_type": "markdown",
      "id": "E-HoZKYqCM_a",
      "metadata": {
        "id": "E-HoZKYqCM_a"
      },
      "source": [
        "## Preprocessing untuk Model Collaborative Filtering"
      ]
    },
    {
      "cell_type": "code",
      "execution_count": 32,
      "id": "oEgkL93XCWyU",
      "metadata": {
        "colab": {
          "base_uri": "https://localhost:8080/"
        },
        "id": "oEgkL93XCWyU",
        "outputId": "280c74fe-13ee-4129-fc71-b9c3da0da5b3"
      },
      "outputs": [
        {
          "name": "stdout",
          "output_type": "stream",
          "text": [
            "Jumlah rating eksplisit: 10557\n"
          ]
        }
      ],
      "source": [
        "explicit_ratings_df = user_rating_df[user_rating_df['Book-Rating'] != 0]\n",
        "print(f\"Jumlah rating eksplisit: {len(explicit_ratings_df)}\")"
      ]
    },
    {
      "cell_type": "markdown",
      "id": "EejXbSl1CfvE",
      "metadata": {
        "id": "EejXbSl1CfvE"
      },
      "source": [
        "* Memisahkan Rating Eksplisit dengan membuat dataframe baru, menggunakan rating yang jelas (1-10) untuk mengetahui preferensi pengguna."
      ]
    },
    {
      "cell_type": "code",
      "execution_count": 33,
      "id": "zfCjfkBeD1Ps",
      "metadata": {
        "colab": {
          "base_uri": "https://localhost:8080/"
        },
        "id": "zfCjfkBeD1Ps",
        "outputId": "68269625-7312-4fa8-c3dd-208952017c71"
      },
      "outputs": [
        {
          "name": "stdout",
          "output_type": "stream",
          "text": [
            "Statistik Jumlah Rating per Pengguna:\n",
            "count    5899.000000\n",
            "mean        1.789625\n",
            "std         3.406005\n",
            "min         1.000000\n",
            "25%         1.000000\n",
            "50%         1.000000\n",
            "75%         2.000000\n",
            "max       197.000000\n",
            "Name: count, dtype: float64\n",
            "\n",
            "Contoh 5 pengguna paling aktif:\n",
            "User-ID\n",
            "98391     197\n",
            "153662     68\n",
            "248718     35\n",
            "16795      33\n",
            "235105     32\n",
            "Name: count, dtype: int64\n",
            "------------------------------\n",
            "\n",
            "Statistik Jumlah Rating per Buku:\n",
            "count    9156.000000\n",
            "mean        1.153014\n",
            "std         0.626959\n",
            "min         1.000000\n",
            "25%         1.000000\n",
            "50%         1.000000\n",
            "75%         1.000000\n",
            "max        17.000000\n",
            "Name: count, dtype: float64\n",
            "\n",
            "Contoh 5 buku paling populer:\n",
            "ISBN\n",
            "0971880107    17\n",
            "0312195516    12\n",
            "0316666343    11\n",
            "0385504209    11\n",
            "043935806X    11\n",
            "Name: count, dtype: int64\n"
          ]
        }
      ],
      "source": [
        "user_counts = explicit_ratings_df['User-ID'].value_counts()\n",
        "print(\"Statistik Jumlah Rating per Pengguna:\")\n",
        "print(user_counts.describe())\n",
        "print(\"\\nContoh 5 pengguna paling aktif:\")\n",
        "print(user_counts.head(5))\n",
        "\n",
        "print(\"-\" * 30)\n",
        "\n",
        "book_counts = explicit_ratings_df['ISBN'].value_counts()\n",
        "print(\"\\nStatistik Jumlah Rating per Buku:\")\n",
        "print(book_counts.describe())\n",
        "print(\"\\nContoh 5 buku paling populer:\")\n",
        "print(book_counts.head(5))"
      ]
    },
    {
      "cell_type": "markdown",
      "id": "NiZ-yOheFR0S",
      "metadata": {
        "id": "NiZ-yOheFR0S"
      },
      "source": [
        "* Cek Distribusi Rating untuk menentukan angka threshold dengan pengguna yang paling aktif"
      ]
    },
    {
      "cell_type": "code",
      "execution_count": 34,
      "id": "0hVJ5hhjD9HL",
      "metadata": {
        "colab": {
          "base_uri": "https://localhost:8080/"
        },
        "id": "0hVJ5hhjD9HL",
        "outputId": "804367bb-ff75-4c50-8160-03cfda132ae8"
      },
      "outputs": [
        {
          "name": "stdout",
          "output_type": "stream",
          "text": [
            "Bentuk data sebelum filtering: (10557, 5)\n",
            "Bentuk data setelah filtering dengan threshold baru: (175, 5)\n"
          ]
        }
      ],
      "source": [
        "MIN_RATINGS_PER_USER = 5\n",
        "MIN_RATINGS_PER_BOOK = 2\n",
        "\n",
        "user_counts = explicit_ratings_df['User-ID'].value_counts()\n",
        "active_users = user_counts[user_counts >= MIN_RATINGS_PER_USER].index\n",
        "filtered_df = explicit_ratings_df[explicit_ratings_df['User-ID'].isin(active_users)]\n",
        "\n",
        "book_counts = filtered_df['ISBN'].value_counts()\n",
        "popular_books = book_counts[book_counts >= MIN_RATINGS_PER_BOOK].index\n",
        "final_df = filtered_df[filtered_df['ISBN'].isin(popular_books)]\n",
        "\n",
        "print(f\"Bentuk data sebelum filtering: {explicit_ratings_df.shape}\")\n",
        "print(f\"Bentuk data setelah filtering dengan threshold baru: {final_df.shape}\")"
      ]
    },
    {
      "cell_type": "markdown",
      "id": "K8LzeALtC3-U",
      "metadata": {
        "id": "K8LzeALtC3-U"
      },
      "source": [
        "* memfilter pengguna dan buku berdasarkan jumlah rating.Hasilnya 175 interaksi yang padat dan berkualitas tinggi daripada pada 10.557 interaksi yang sebagian besar \"terputus-putus\" dan acak."
      ]
    },
    {
      "cell_type": "code",
      "execution_count": 35,
      "id": "eSnXRqJaCI_s",
      "metadata": {
        "colab": {
          "base_uri": "https://localhost:8080/"
        },
        "id": "eSnXRqJaCI_s",
        "outputId": "2cb36bbc-5c61-41e9-e969-d6eb91172696"
      },
      "outputs": [
        {
          "name": "stdout",
          "output_type": "stream",
          "text": [
            "Variabel 'collaborative_df' berhasil dibuat\n",
            "Bentuk data: (175, 5)\n"
          ]
        }
      ],
      "source": [
        "collaborative_df = final_df.copy()\n",
        "\n",
        "print(\"Variabel 'collaborative_df' berhasil dibuat\")\n",
        "print(f\"Bentuk data: {collaborative_df.shape}\")"
      ]
    },
    {
      "cell_type": "markdown",
      "id": "LRQpIEznCVBM",
      "metadata": {
        "id": "LRQpIEznCVBM"
      },
      "source": [
        " * Simpan hasil ke variabel 'collaborative_df"
      ]
    },
    {
      "cell_type": "markdown",
      "id": "ErWWxEROKiwK",
      "metadata": {
        "id": "ErWWxEROKiwK"
      },
      "source": [
        "-----"
      ]
    },
    {
      "cell_type": "markdown",
      "id": "RE_z2NnP_DiJ",
      "metadata": {
        "id": "RE_z2NnP_DiJ"
      },
      "source": [
        "# **Modeling**"
      ]
    },
    {
      "cell_type": "markdown",
      "id": "12c4266a",
      "metadata": {
        "_cell_guid": "f6286d2b-3bf3-4f20-8f09-e8cd2e2e495e",
        "_uuid": "6cd538c9-3a69-4fed-a124-33407fd5edd4",
        "collapsed": false,
        "id": "12c4266a",
        "jupyter": {
          "outputs_hidden": false
        }
      },
      "source": [
        "# Content-Based Filtering  \n",
        "##(Merekomendasikan buku berdasarkan kemiripan atribut/konten buku)"
      ]
    },
    {
      "cell_type": "code",
      "execution_count": 36,
      "id": "G4lko4CZUZQu",
      "metadata": {
        "id": "G4lko4CZUZQu"
      },
      "outputs": [],
      "source": [
        "popular_isbns = collaborative_df['ISBN'].unique()\n",
        "content_filtered_df = book_content_df[book_content_df['ISBN'].isin(popular_isbns)].copy()"
      ]
    },
    {
      "cell_type": "markdown",
      "id": "ZoDytR5lU40L",
      "metadata": {
        "id": "ZoDytR5lU40L"
      },
      "source": [
        "* menyaring data buku agar content-based filtering hanya bekerja pada buku-buku populer, yaitu buku-buku yang sudah lolos threshold di collaborative filtering"
      ]
    },
    {
      "cell_type": "code",
      "execution_count": 37,
      "id": "jOdb5OMbHcY2",
      "metadata": {
        "colab": {
          "base_uri": "https://localhost:8080/"
        },
        "id": "jOdb5OMbHcY2",
        "outputId": "5203174a-cb48-4c90-905d-af8497febe73"
      },
      "outputs": [
        {
          "name": "stdout",
          "output_type": "stream",
          "text": [
            "Informasi book_content_df:\n",
            "<class 'pandas.core.frame.DataFrame'>\n",
            "Index: 266719 entries, 0 to 271359\n",
            "Data columns (total 9 columns):\n",
            " #   Column               Non-Null Count   Dtype \n",
            "---  ------               --------------   ----- \n",
            " 0   ISBN                 266719 non-null  object\n",
            " 1   Book-Title           266719 non-null  object\n",
            " 2   Book-Author          266719 non-null  object\n",
            " 3   Year-Of-Publication  266719 non-null  int64 \n",
            " 4   Publisher            266719 non-null  object\n",
            " 5   Image-URL-S          266719 non-null  object\n",
            " 6   Image-URL-M          266719 non-null  object\n",
            " 7   Image-URL-L          266719 non-null  object\n",
            " 8   features             266719 non-null  object\n",
            "dtypes: int64(1), object(8)\n",
            "memory usage: 20.3+ MB\n",
            "None\n",
            "\n",
            "5 baris pertama book_content_df:\n",
            "         ISBN                                         Book-Title  \\\n",
            "0  0195153448                                Classical Mythology   \n",
            "1  0002005018                                       Clara Callan   \n",
            "2  0060973129                               Decision in Normandy   \n",
            "3  0374157065  Flu: The Story of the Great Influenza Pandemic...   \n",
            "4  0393045218                             The Mummies of Urumchi   \n",
            "\n",
            "            Book-Author  Year-Of-Publication                   Publisher  \\\n",
            "0    Mark P. O. Morford                 2002     Oxford University Press   \n",
            "1  Richard Bruce Wright                 2001       HarperFlamingo Canada   \n",
            "2          Carlo D'Este                 1991             HarperPerennial   \n",
            "3      Gina Bari Kolata                 1999        Farrar Straus Giroux   \n",
            "4       E. J. W. Barber                 1999  W. W. Norton &amp; Company   \n",
            "\n",
            "                                         Image-URL-S  \\\n",
            "0  http://images.amazon.com/images/P/0195153448.0...   \n",
            "1  http://images.amazon.com/images/P/0002005018.0...   \n",
            "2  http://images.amazon.com/images/P/0060973129.0...   \n",
            "3  http://images.amazon.com/images/P/0374157065.0...   \n",
            "4  http://images.amazon.com/images/P/0393045218.0...   \n",
            "\n",
            "                                         Image-URL-M  \\\n",
            "0  http://images.amazon.com/images/P/0195153448.0...   \n",
            "1  http://images.amazon.com/images/P/0002005018.0...   \n",
            "2  http://images.amazon.com/images/P/0060973129.0...   \n",
            "3  http://images.amazon.com/images/P/0374157065.0...   \n",
            "4  http://images.amazon.com/images/P/0393045218.0...   \n",
            "\n",
            "                                         Image-URL-L  \\\n",
            "0  http://images.amazon.com/images/P/0195153448.0...   \n",
            "1  http://images.amazon.com/images/P/0002005018.0...   \n",
            "2  http://images.amazon.com/images/P/0060973129.0...   \n",
            "3  http://images.amazon.com/images/P/0374157065.0...   \n",
            "4  http://images.amazon.com/images/P/0393045218.0...   \n",
            "\n",
            "                                     features  \n",
            "0  Mark P. O. Morford Oxford University Press  \n",
            "1  Richard Bruce Wright HarperFlamingo Canada  \n",
            "2                Carlo D'Este HarperPerennial  \n",
            "3       Gina Bari Kolata Farrar Straus Giroux  \n",
            "4  E. J. W. Barber W. W. Norton &amp; Company  \n",
            "\n",
            "Jumlah missing values di book_content_df:\n",
            "ISBN                   0\n",
            "Book-Title             0\n",
            "Book-Author            0\n",
            "Year-Of-Publication    0\n",
            "Publisher              0\n",
            "Image-URL-S            0\n",
            "Image-URL-M            0\n",
            "Image-URL-L            0\n",
            "features               0\n",
            "dtype: int64\n"
          ]
        }
      ],
      "source": [
        "print(\"Informasi book_content_df:\")\n",
        "print(book_content_df.info())\n",
        "\n",
        "print(\"\\n5 baris pertama book_content_df:\")\n",
        "print(book_content_df.head())\n",
        "\n",
        "print(\"\\nJumlah missing values di book_content_df:\")\n",
        "print(book_content_df.isnull().sum())"
      ]
    },
    {
      "cell_type": "markdown",
      "id": "gTaFwK2f1en8",
      "metadata": {
        "id": "gTaFwK2f1en8"
      },
      "source": [
        "melihat informasi book_content_df untuk memastikan data yang digunakan pemodelan yang selanjutnya"
      ]
    },
    {
      "cell_type": "code",
      "execution_count": 38,
      "id": "fGllQAlnIGHu",
      "metadata": {
        "colab": {
          "base_uri": "https://localhost:8080/"
        },
        "id": "fGllQAlnIGHu",
        "outputId": "db41fadb-1314-496c-999f-4e08266a2b2b"
      },
      "outputs": [
        {
          "name": "stdout",
          "output_type": "stream",
          "text": [
            "(266719, 54064)\n"
          ]
        }
      ],
      "source": [
        "tfidf = TfidfVectorizer()\n",
        "tfidf_matrix = tfidf.fit_transform(book_content_df['features'])\n",
        "\n",
        "print(tfidf_matrix.shape)"
      ]
    },
    {
      "cell_type": "markdown",
      "id": "Qvb06pVH2MpM",
      "metadata": {
        "id": "Qvb06pVH2MpM"
      },
      "source": [
        "* Setiap buku diwakili oleh vektor dengan 54.064 dimensi, di mana tiap dimensi merepresentasikan kata unik (unik dari kombinasi Book-Author + Publisher).\n",
        "* 266.719 merupakan Jumlah kolom /jumlah fitur unik dari teks (vocabulary)\n",
        "insight : Matrix besar sekali (266rb × 54rb) → ini yang bisa menyebabkan kehabisan RAM lanjut ke cosine similarity atau evaluasi.Itulah sebabnya diawal perlu menyaring buku menjadi content_filtered_df di tahap sebelumnya"
      ]
    },
    {
      "cell_type": "code",
      "execution_count": 39,
      "id": "_ShCow6iVGVH",
      "metadata": {
        "colab": {
          "base_uri": "https://localhost:8080/"
        },
        "id": "_ShCow6iVGVH",
        "outputId": "b816d5b4-9c47-487d-d907-3f4bca79bf1f"
      },
      "outputs": [
        {
          "name": "stdout",
          "output_type": "stream",
          "text": [
            "<class 'pandas.core.frame.DataFrame'>\n",
            "Index: 175 entries, 178 to 39871\n",
            "Data columns (total 5 columns):\n",
            " #   Column       Non-Null Count  Dtype  \n",
            "---  ------       --------------  -----  \n",
            " 0   User-ID      175 non-null    int64  \n",
            " 1   ISBN         175 non-null    object \n",
            " 2   Book-Rating  175 non-null    int64  \n",
            " 3   Location     175 non-null    object \n",
            " 4   Age          175 non-null    float64\n",
            "dtypes: float64(1), int64(2), object(2)\n",
            "memory usage: 8.2+ KB\n",
            "None\n",
            "     User-ID        ISBN  Book-Rating                              Location  \\\n",
            "178   171118  0670032891            8              toronto, ontario, canada   \n",
            "213   242409  0140174923           10  berck sur mer, pas de calais, france   \n",
            "392   223787  0446679364            7      fountain valley, california, usa   \n",
            "576   229551  0028603923            2               ottawa, ontario, canada   \n",
            "885   109461  0345350499            7          oklahoma city, oklahoma, usa   \n",
            "\n",
            "      Age  \n",
            "178  47.0  \n",
            "213  23.0  \n",
            "392  58.0  \n",
            "576  28.0  \n",
            "885  30.0  \n",
            "User-ID        0\n",
            "ISBN           0\n",
            "Book-Rating    0\n",
            "Location       0\n",
            "Age            0\n",
            "dtype: int64\n"
          ]
        }
      ],
      "source": [
        "print(collaborative_df.info())\n",
        "print(collaborative_df.head())\n",
        "print(collaborative_df.isnull().sum())"
      ]
    },
    {
      "cell_type": "markdown",
      "id": "qKd7fY8B3DR2",
      "metadata": {
        "id": "qKd7fY8B3DR2"
      },
      "source": [
        "* melihat dan memastikan data collaborative_df ada untuk tahap selanjutnya"
      ]
    },
    {
      "cell_type": "code",
      "execution_count": 40,
      "id": "m5MlqzEeIE88",
      "metadata": {
        "colab": {
          "base_uri": "https://localhost:8080/"
        },
        "id": "m5MlqzEeIE88",
        "outputId": "7c0edd3e-94e7-49bf-d497-83a55b5ea12e"
      },
      "outputs": [
        {
          "name": "stdout",
          "output_type": "stream",
          "text": [
            "\n",
            "Model SVD berhasil dilatih.\n"
          ]
        }
      ],
      "source": [
        "reader = Reader(rating_scale=(1, 10))\n",
        "data = Dataset.load_from_df(collaborative_df[['User-ID', 'ISBN', 'Book-Rating']], reader)\n",
        "\n",
        "trainset = data.build_full_trainset()\n",
        "svd = SVD()\n",
        "svd.fit(trainset)\n",
        "\n",
        "print(\"\\nModel SVD berhasil dilatih.\")"
      ]
    },
    {
      "cell_type": "markdown",
      "id": "uLAe7QzBVm1C",
      "metadata": {
        "id": "uLAe7QzBVm1C"
      },
      "source": [
        "* menyiapkan data untuk library 'surprise'\n",
        "Inisialisasi Reader untuk membaca data, dengan skala rating 1-10"
      ]
    },
    {
      "cell_type": "code",
      "execution_count": 41,
      "id": "zQfLGlxsVmjL",
      "metadata": {
        "id": "zQfLGlxsVmjL"
      },
      "outputs": [],
      "source": [
        "def get_user_recommendations(user_id, model=svd, n=5):\n",
        "    \"\"\"\n",
        "    Fungsi untuk memberikan rekomendasi buku kepada pengguna.\n",
        "    \"\"\"\n",
        "    all_isbns = collaborative_df['ISBN'].unique()\n",
        "    rated_isbns = collaborative_df[collaborative_df['User-ID'] == user_id]['ISBN'].unique()\n",
        "    unrated_isbns = [isbn for isbn in all_isbns if isbn not in rated_isbns]\n",
        "    predictions = [model.predict(user_id, isbn) for isbn in unrated_isbns]\n",
        "    predictions.sort(key=lambda x: x.est, reverse=True)\n",
        "    top_n_preds = predictions[:n]\n",
        "    recommended_isbns = [pred.iid for pred in top_n_preds]\n",
        "    recommended_books = book_content_df[book_content_df['ISBN'].isin(recommended_isbns)]\n",
        "\n",
        "    return recommended_books[['Book-Title', 'Book-Author']]\n"
      ]
    },
    {
      "cell_type": "markdown",
      "id": "wNzMexE8V0h8",
      "metadata": {
        "id": "wNzMexE8V0h8"
      },
      "source": [
        "4. Latih Model SVD\n",
        "Inisialisasi dan latih model SVD, Bangun trainset dari keseluruhan data\n",
        "\"\"\""
      ]
    },
    {
      "cell_type": "code",
      "execution_count": 42,
      "id": "hFq4myqtWC6s",
      "metadata": {
        "colab": {
          "base_uri": "https://localhost:8080/"
        },
        "id": "hFq4myqtWC6s",
        "outputId": "00035243-5f57-49aa-a9ef-fac8fedd9dc9"
      },
      "outputs": [
        {
          "name": "stdout",
          "output_type": "stream",
          "text": [
            "\n",
            ">>> Rekomendasi buku untuk User-ID 171118:\n",
            "                                              Book-Title    Book-Author\n",
            "37                                 To Kill a Mockingbird     Harper Lee\n",
            "11915                            The Secret Life of Bees  Sue Monk Kidd\n",
            "57420  The Art of Fiction: Illustrated from Classic a...    David Lodge\n"
          ]
        }
      ],
      "source": [
        "test_user_id = collaborative_df['User-ID'].iloc[0]\n",
        "user_recs = get_user_recommendations(test_user_id)\n",
        "\n",
        "print(f\"\\n>>> Rekomendasi buku untuk User-ID {test_user_id}:\")\n",
        "print(user_recs)"
      ]
    },
    {
      "cell_type": "markdown",
      "id": "l2YKcYoi7xNX",
      "metadata": {
        "id": "l2YKcYoi7xNX"
      },
      "source": [
        "buku yang direkomendasikan:\n",
        "- Fast Food Nation...: Non-Fiksi, Jurnalisme Investigatif.\n",
        "- The Stand,..: Horor/Fantasi Apokaliptik.\n",
        "- All Around the Town: Suspense/Misteri.\n",
        "- The Fairy Godmother: Fantasi.\n",
        "- Would You Like to Play Hide & Seek...: Buku Anak-anak.\n",
        "semua genre berbeda yang menunjukkan hasil model tidak melihat konten sama sekali, melainkan murni dari pola rating.Mungkin ada contoh pengguna yang membaca Stephen King untuk dirinya sendiri dan Jon Stone untuk anaknya, dan model menangkap ini sebagai sebuah pola"
      ]
    },
    {
      "cell_type": "code",
      "execution_count": 43,
      "id": "PWSChaMEWYOH",
      "metadata": {
        "colab": {
          "base_uri": "https://localhost:8080/"
        },
        "id": "PWSChaMEWYOH",
        "outputId": "5a316178-a9d6-42b1-dae5-9c24527a96de"
      },
      "outputs": [
        {
          "name": "stdout",
          "output_type": "stream",
          "text": [
            "Beberapa User-ID yang tersedia: [171118 242409 223787 229551 109461 128835 153662 264321   7125   8245]\n"
          ]
        }
      ],
      "source": [
        "available_users = collaborative_df['User-ID'].unique()\n",
        "print(f\"Beberapa User-ID yang tersedia: {available_users[:10]}\")"
      ]
    },
    {
      "cell_type": "markdown",
      "id": "ypKOFZprWdJc",
      "metadata": {
        "id": "ypKOFZprWdJc"
      },
      "source": [
        "* Lihat beberapa User-ID unik yang tersedia di dalam data"
      ]
    },
    {
      "cell_type": "code",
      "execution_count": 44,
      "id": "Q_7unf7jWVVa",
      "metadata": {
        "colab": {
          "base_uri": "https://localhost:8080/"
        },
        "id": "Q_7unf7jWVVa",
        "outputId": "819a2ab8-d747-48bc-8705-a6d912aa2617"
      },
      "outputs": [
        {
          "name": "stdout",
          "output_type": "stream",
          "text": [
            "\n",
            ">>> Rekomendasi buku untuk User-ID 229551:\n",
            "                                              Book-Title       Book-Author\n",
            "4466                                    Love You Forever  Robert N. Munsch\n",
            "5506   Harry Potter and the Order of the Phoenix (Boo...     J. K. Rowling\n",
            "13182                                     Cradle and All   James Patterson\n",
            "47957                               One Night of Scandal   Teresa Medeiros\n"
          ]
        }
      ],
      "source": [
        "if len(available_users) > 5:\n",
        "    another_test_user_id = available_users[3]\n",
        "\n",
        "    another_user_recs = get_user_recommendations(another_test_user_id)\n",
        "\n",
        "    print(f\"\\n>>> Rekomendasi buku untuk User-ID {another_test_user_id}:\")\n",
        "    print(another_user_recs)\n",
        "else:\n",
        "    print(\"\\nTidak cukup pengguna dalam data untuk memilih contoh lain.\")\n"
      ]
    },
    {
      "cell_type": "markdown",
      "id": "_iX8UNmWWrFJ",
      "metadata": {
        "id": "_iX8UNmWWrFJ"
      },
      "source": [
        "* Uji  Rekomendasi untuk Pengguna Lain :mengganti available_users[2] dengan indeks lain atau User-ID spesifik dari daftar yang ditampilkan untuk melihat hasil yang berbeda.\n",
        "\n"
      ]
    },
    {
      "cell_type": "code",
      "execution_count": 69,
      "id": "IwNcMbR1xObv",
      "metadata": {
        "id": "IwNcMbR1xObv"
      },
      "outputs": [],
      "source": [
        "tfidf = TfidfVectorizer()\n",
        "tfidf_matrix_filtered = tfidf.fit_transform(content_filtered_df['features'])\n"
      ]
    },
    {
      "cell_type": "markdown",
      "id": "Iy8jxMt8yPHt",
      "metadata": {
        "id": "Iy8jxMt8yPHt"
      },
      "source": [
        "* Buat TF-IDF dari content_filtered_df untuk melihat similarity"
      ]
    },
    {
      "cell_type": "code",
      "execution_count": 68,
      "id": "BfFMjglpxPlX",
      "metadata": {
        "id": "BfFMjglpxPlX"
      },
      "outputs": [],
      "source": [
        "def content_based_recommend(book_title, top_n=5):\n",
        "    idx = content_filtered_df[content_filtered_df['Book-Title'] == book_title].index[0]\n",
        "    cos_sim = cosine_similarity(tfidf_matrix_filtered[idx], tfidf_matrix_filtered).flatten()\n",
        "    similar_indices = cos_sim.argsort()[-top_n-1:-1][::-1]\n",
        "\n",
        "    recommended_books = content_filtered_df.iloc[similar_indices][['Book-Title', 'Book-Author']]\n",
        "    recommended_books['Similarity Score'] = cos_sim[similar_indices]\n",
        "\n",
        "    return recommended_books\n"
      ]
    },
    {
      "cell_type": "markdown",
      "id": "zndFX3ej0a7j",
      "metadata": {
        "id": "zndFX3ej0a7j"
      },
      "source": [
        "* Ambil index buku dari content_filtered_df lalu menghitung cosine similarity dan ambil buku dari top 1 yang mirip"
      ]
    },
    {
      "cell_type": "code",
      "execution_count": 66,
      "id": "WJlJ1f-Wxxw8",
      "metadata": {
        "colab": {
          "base_uri": "https://localhost:8080/",
          "height": 398
        },
        "id": "WJlJ1f-Wxxw8",
        "outputId": "c55b08a7-5150-4098-bf1f-75920aaa086f"
      },
      "outputs": [
        {
          "data": {
            "text/html": [
              "<div>\n",
              "<style scoped>\n",
              "    .dataframe tbody tr th:only-of-type {\n",
              "        vertical-align: middle;\n",
              "    }\n",
              "\n",
              "    .dataframe tbody tr th {\n",
              "        vertical-align: top;\n",
              "    }\n",
              "\n",
              "    .dataframe thead th {\n",
              "        text-align: right;\n",
              "    }\n",
              "</style>\n",
              "<table border=\"1\" class=\"dataframe\">\n",
              "  <thead>\n",
              "    <tr style=\"text-align: right;\">\n",
              "      <th></th>\n",
              "      <th>Book-Title</th>\n",
              "    </tr>\n",
              "  </thead>\n",
              "  <tbody>\n",
              "    <tr>\n",
              "      <th>23</th>\n",
              "      <td>White Oleander : A Novel</td>\n",
              "    </tr>\n",
              "    <tr>\n",
              "      <th>38</th>\n",
              "      <td>Love You Forever</td>\n",
              "    </tr>\n",
              "    <tr>\n",
              "      <th>51</th>\n",
              "      <td>Dreamer's Dictionary</td>\n",
              "    </tr>\n",
              "    <tr>\n",
              "      <th>0</th>\n",
              "      <td>Beloved (Plume Contemporary Fiction)</td>\n",
              "    </tr>\n",
              "    <tr>\n",
              "      <th>42</th>\n",
              "      <td>The Idiot Girls' Action Adventure Club</td>\n",
              "    </tr>\n",
              "    <tr>\n",
              "      <th>77</th>\n",
              "      <td>Death on the Nile (Hercule Poirot Mysteries (P...</td>\n",
              "    </tr>\n",
              "    <tr>\n",
              "      <th>8</th>\n",
              "      <td>The Street Lawyer</td>\n",
              "    </tr>\n",
              "    <tr>\n",
              "      <th>59</th>\n",
              "      <td>After All These Years</td>\n",
              "    </tr>\n",
              "    <tr>\n",
              "      <th>75</th>\n",
              "      <td>The Art of Fiction: Illustrated from Classic a...</td>\n",
              "    </tr>\n",
              "    <tr>\n",
              "      <th>1</th>\n",
              "      <td>To Kill a Mockingbird</td>\n",
              "    </tr>\n",
              "  </tbody>\n",
              "</table>\n",
              "</div><br><label><b>dtype:</b> object</label>"
            ],
            "text/plain": [
              "23                             White Oleander : A Novel\n",
              "38                                     Love You Forever\n",
              "51                                 Dreamer's Dictionary\n",
              "0                  Beloved (Plume Contemporary Fiction)\n",
              "42               The Idiot Girls' Action Adventure Club\n",
              "77    Death on the Nile (Hercule Poirot Mysteries (P...\n",
              "8                                     The Street Lawyer\n",
              "59                                After All These Years\n",
              "75    The Art of Fiction: Illustrated from Classic a...\n",
              "1                                 To Kill a Mockingbird\n",
              "Name: Book-Title, dtype: object"
            ]
          },
          "execution_count": 66,
          "metadata": {},
          "output_type": "execute_result"
        }
      ],
      "source": [
        "content_filtered_df['Book-Title'].sample(10)"
      ]
    },
    {
      "cell_type": "markdown",
      "id": "aQgCzJtZ01Zz",
      "metadata": {
        "id": "aQgCzJtZ01Zz"
      },
      "source": [
        "* melihat sample untuk uji coba similarity"
      ]
    },
    {
      "cell_type": "code",
      "execution_count": 67,
      "id": "N_34b1Z-x621",
      "metadata": {
        "colab": {
          "base_uri": "https://localhost:8080/"
        },
        "id": "N_34b1Z-x621",
        "outputId": "853bae9f-3202-4f63-954d-a76825bf9a32"
      },
      "outputs": [
        {
          "name": "stdout",
          "output_type": "stream",
          "text": [
            "                                           Book-Title   Book-Author  \\\n",
            "8                                   The Street Lawyer  John Grisham   \n",
            "60         Key of Knowledge (Key Trilogy (Paperback))  Nora Roberts   \n",
            "61             Key of Light (Key Trilogy (Paperback))  Nora Roberts   \n",
            "39  Dance upon the Air (Three Sisters Island Trilogy)  Nora Roberts   \n",
            "48                              The Angel of Darkness    Caleb Carr   \n",
            "\n",
            "    Similarity Score  \n",
            "8           0.057785  \n",
            "60          0.054499  \n",
            "61          0.054499  \n",
            "39          0.054499  \n",
            "48          0.052168  \n"
          ]
        }
      ],
      "source": [
        "cbf_recs = content_based_recommend('Love You Forever', top_n=5)\n",
        "print(cbf_recs)"
      ]
    },
    {
      "cell_type": "markdown",
      "id": "3BHo_F6n09L7",
      "metadata": {
        "id": "3BHo_F6n09L7"
      },
      "source": [
        "- Model berhasil merekomendasikan buku-buku lain yang umumnya termasuk dalam genre fiksi dewasa dan relasi keluarga atau hubungan emosional, yang selaras dengan tema dari Love You Forever, sebuah buku yang berkisah tentang hubungan kasih sayang orang tua dan anak.\n",
        "\n",
        "- Meskipun tidak semua buku yang direkomendasikan memiliki tema yang sama persis, pemilihan penulis populer seperti Nora Roberts dan John Grisham menunjukkan bahwa model menangkap popularitas dan relevansi pasar dari buku-buku tersebut.\n",
        "\n",
        "- Skor kemiripan cukup rendah (~0.05), yang mengindikasikan bahwa fitur yang digunakan (author + publisher) masih kurang kuat untuk menghasilkan kemiripan yang lebih tajam — hal ini memberikan ruang pengembangan lebih lanjut dengan menambah fitur seperti genre atau sinopsis."
      ]
    },
    {
      "cell_type": "markdown",
      "id": "aD_MlOWfXPVH",
      "metadata": {
        "id": "aD_MlOWfXPVH"
      },
      "source": [
        "# Collaborative Filtering\n",
        "## ( Merekomendasikan buku berdasarkan kesamaan selera antar pengguna.)"
      ]
    },
    {
      "cell_type": "code",
      "execution_count": 45,
      "id": "rERtFMwbXNQS",
      "metadata": {
        "colab": {
          "base_uri": "https://localhost:8080/"
        },
        "id": "rERtFMwbXNQS",
        "outputId": "4178da09-9b6a-4d49-ebb5-1a97710e9ae7"
      },
      "outputs": [
        {
          "name": "stdout",
          "output_type": "stream",
          "text": [
            "Mengevaluasi model SVD dengan 5-Fold Cross-Validation...\n",
            "Evaluating RMSE, MAE of algorithm SVD on 5 split(s).\n",
            "\n",
            "                  Fold 1  Fold 2  Fold 3  Fold 4  Fold 5  Mean    Std     \n",
            "RMSE (testset)    1.5423  1.8398  1.5541  1.7294  1.7470  1.6825  0.1160  \n",
            "MAE (testset)     1.0943  1.4581  1.2471  1.3466  1.4261  1.3144  0.1320  \n",
            "Fit time          0.00    0.00    0.00    0.00    0.00    0.00    0.00    \n",
            "Test time         0.00    0.00    0.00    0.00    0.00    0.00    0.00    \n"
          ]
        },
        {
          "data": {
            "text/plain": [
              "{'test_rmse': array([1.54225955, 1.83981549, 1.55408419, 1.72938249, 1.74700544]),\n",
              " 'test_mae': array([1.0942518 , 1.45811108, 1.24714307, 1.34659523, 1.42608201]),\n",
              " 'fit_time': (0.0033354759216308594,\n",
              "  0.0028526782989501953,\n",
              "  0.0029573440551757812,\n",
              "  0.003046274185180664,\n",
              "  0.0029952526092529297),\n",
              " 'test_time': (0.0002760887145996094,\n",
              "  0.0002415180206298828,\n",
              "  0.00021839141845703125,\n",
              "  0.00022149085998535156,\n",
              "  0.00025153160095214844)}"
            ]
          },
          "execution_count": 45,
          "metadata": {},
          "output_type": "execute_result"
        }
      ],
      "source": [
        "print(\"Mengevaluasi model SVD dengan 5-Fold Cross-Validation...\")\n",
        "cross_validate(svd, data, measures=['RMSE', 'MAE'], cv=5, verbose=True)"
      ]
    },
    {
      "cell_type": "markdown",
      "id": "WBnoJiERYclI",
      "metadata": {
        "id": "WBnoJiERYclI"
      },
      "source": [
        "- Lakukan 5-fold cross-validation untuk mengevaluasi model SVD\n",
        "- ita akan mengukur RMSE dan MAE\n",
        "- cv=5' berarti data akan dibagi menjadi 5 bagian, diuji 5 kali\n",
        "- verbose=True' akan menampilkan prosesnya\n",
        "\n",
        "insight :\n",
        "Akurasi Model memiliki performa yang solid dengan nilai rata-rata RMSE sebesar 1.7470.Secara rata-rata, prediksi rating yang diberikan oleh model meleset sekitar 1.74 poin dari rating sebenarnya (pada skala 1-10).\n",
        "\n",
        "Kesimpulan: Mengingat data yang digunakan sangat sparse (jarang), hasil ini sangat baik. Ini membuktikan bahwa model berhasil mempelajari pola preferensi pengguna secara efektif dan kinerjanya jauh lebih baik daripada tebakan acak."
      ]
    },
    {
      "cell_type": "code",
      "execution_count": 80,
      "id": "2ZWJnxVA3gaL",
      "metadata": {
        "id": "2ZWJnxVA3gaL"
      },
      "outputs": [],
      "source": [
        "def get_user_recommendations(user_id, model=svd, n=5):\n",
        "    all_isbns = collaborative_df['ISBN'].unique()\n",
        "    rated_isbns = collaborative_df[collaborative_df['User-ID'] == user_id]['ISBN'].unique()\n",
        "\n",
        "    unrated_isbns = [isbn for isbn in all_isbns if isbn not in rated_isbns]\n",
        "\n",
        "    predictions = [model.predict(user_id, isbn) for isbn in unrated_isbns]\n",
        "\n",
        "    predictions.sort(key=lambda x: x.est, reverse=True)\n",
        "\n",
        "    top_n_preds = predictions[:n]\n",
        "\n",
        "    recommended_isbns = [pred.iid for pred in top_n_preds]\n",
        "    predicted_ratings = [pred.est for pred in top_n_preds]\n",
        "\n",
        "    recommended_books = book_content_df[book_content_df['ISBN'].isin(recommended_isbns)][['Book-Title', 'Book-Author']].reset_index(drop=True)\n",
        "    recommended_books['Predicted Rating'] = predicted_ratings[:len(recommended_books)]\n",
        "\n",
        "    return recommended_books\n"
      ]
    },
    {
      "cell_type": "markdown",
      "id": "OcLO9ni139uj",
      "metadata": {
        "id": "OcLO9ni139uj"
      },
      "source": [
        "* menggunakan fungsi get_user_recommendations memberikan rekomendasi buku berdasarkan preferensi pengguna. Hasilnya nanti mencantumkan Judul, Penulis, dan Predicted Rating"
      ]
    },
    {
      "cell_type": "code",
      "execution_count": 75,
      "id": "3nG_uioO4kCa",
      "metadata": {
        "colab": {
          "base_uri": "https://localhost:8080/"
        },
        "id": "3nG_uioO4kCa",
        "outputId": "72b35c67-9d26-41c4-f819-2ca325f01bc1"
      },
      "outputs": [
        {
          "name": "stdout",
          "output_type": "stream",
          "text": [
            "User-ID yang tersedia: [171118 242409 223787 229551 109461 128835 153662 264321   7125   8245]\n"
          ]
        }
      ],
      "source": [
        "available_users = collaborative_df['User-ID'].unique()\n",
        "print(f\"User-ID yang tersedia: {available_users[:10]}\")"
      ]
    },
    {
      "cell_type": "code",
      "execution_count": 81,
      "id": "2cJfRET84pAa",
      "metadata": {
        "colab": {
          "base_uri": "https://localhost:8080/"
        },
        "id": "2cJfRET84pAa",
        "outputId": "e78c3093-08eb-4651-92e6-08d38f899abc"
      },
      "outputs": [
        {
          "name": "stdout",
          "output_type": "stream",
          "text": [
            "Rekomendasi untuk User-ID 223787:\n",
            "                                          Book-Title              Book-Author  \\\n",
            "0                              To Kill a Mockingbird               Harper Lee   \n",
            "1  Harry Potter and the Order of the Phoenix (Boo...            J. K. Rowling   \n",
            "2  Adventures of Sherlock Holmes (Wordsworth Coll...  Arthur Conan, Sir Doyle   \n",
            "\n",
            "   Predicted Rating  \n",
            "0          8.746819  \n",
            "1          8.726988  \n",
            "2          8.639476  \n"
          ]
        }
      ],
      "source": [
        "test_user_id = available_users[2]  # conoth user\n",
        "user_recs = get_user_recommendations(test_user_id, n=5)\n",
        "\n",
        "print(f\"Rekomendasi untuk User-ID {test_user_id}:\")\n",
        "print(user_recs)"
      ]
    },
    {
      "cell_type": "markdown",
      "id": "9x96Ldr05NLX",
      "metadata": {
        "id": "9x96Ldr05NLX"
      },
      "source": [
        "Insight:\n",
        "\n",
        "- Model berhasil merekomendasikan buku-buku yang sangat populer dari berbagai genre klasik dan fiksi populer.\n",
        "\n",
        "- Ini menunjukkan bahwa Collaborative Filtering SVD mampu menangkap preferensi pengguna berdasarkan pola rating pengguna lain yang memiliki kesamaan minat.\n",
        "\n",
        "- Rekomendasi mencerminkan kemampuan model untuk menghadirkan buku lintas genre, bukan hanya berdasarkan konten, melainkan berdasarkan pola rating pengguna-pengguna serupa (serendipity).\n",
        "\n",
        "- Predicted Rating tinggi (di atas 8.6) menunjukkan bahwa model cukup yakin pengguna ini akan menyukai buku-buku yang direkomendasikan."
      ]
    },
    {
      "cell_type": "code",
      "execution_count": 46,
      "id": "McMN3AYkYZi9",
      "metadata": {
        "colab": {
          "base_uri": "https://localhost:8080/"
        },
        "id": "McMN3AYkYZi9",
        "outputId": "4954e5b3-dc02-4413-8772-17465760ed5b"
      },
      "outputs": [
        {
          "name": "stdout",
          "output_type": "stream",
          "text": [
            "Model SVD berhasil disimpan ke dalam file 'svd_model.pkl'\n"
          ]
        }
      ],
      "source": [
        "with open('svd_model.pkl', 'wb') as file:\n",
        "    pickle.dump(svd, file)\n",
        "\n",
        "print(\"Model SVD berhasil disimpan ke dalam file 'svd_model.pkl'\")"
      ]
    },
    {
      "cell_type": "markdown",
      "id": "ODLEKU9c9UkO",
      "metadata": {
        "id": "ODLEKU9c9UkO"
      },
      "source": [
        "menyimpan model svd dan tidak menyimpan model pertama karena ram tidak mencukupi"
      ]
    },
    {
      "cell_type": "code",
      "execution_count": 47,
      "id": "ZaGWeztCYrcZ",
      "metadata": {
        "colab": {
          "base_uri": "https://localhost:8080/"
        },
        "id": "ZaGWeztCYrcZ",
        "outputId": "86c43fa6-5460-4b93-dc99-004cfdcedb02"
      },
      "outputs": [
        {
          "name": "stdout",
          "output_type": "stream",
          "text": [
            "DataFrame yang dibutuhkan juga telah disimpan.\n"
          ]
        }
      ],
      "source": [
        "collaborative_df.to_csv('collaborative_data.csv', index=False)\n",
        "book_content_df.to_csv('book_content_data.csv', index=False)\n",
        "\n",
        "print(\"DataFrame yang dibutuhkan juga telah disimpan.\")"
      ]
    },
    {
      "cell_type": "markdown",
      "id": "ujX5wZZs9c4g",
      "metadata": {
        "id": "ujX5wZZs9c4g"
      },
      "source": [
        "menyimpan dataframe hasil pemodelan sebelumnya yang siap digunakan untuk pemodelan."
      ]
    },
    {
      "cell_type": "markdown",
      "id": "_8fDUdJID9sI",
      "metadata": {
        "id": "_8fDUdJID9sI"
      },
      "source": [
        "## Perbedaan kedua model\n",
        "\n",
        "1. Content-Based Filtering: Kekuatan Relevansi yang Aman\n",
        "\n",
        "Model Content-Based, yang bekerja berdasarkan kemiripan atribut buku (penulis dan penerbit), terbukti efektif dalam menemukan rekomendasi yang relevan secara langsung dan dapat diprediksi. Dengan metrik evaluasi Precision@5 yang menunjukkan kemampuan model dalam merekomendasikan buku dari penulis yang sama, model ini unggul dalam memberikan rekomendasi yang \"aman\".\n",
        "\n",
        "- Kekuatan Utama: Transparansi dan keandalan. Jika seorang pengguna menyukai buku dari Stephen King, model ini dengan sangat baik akan merekomendasikan buku Stephen King lainnya. Ini memenuhi kebutuhan pengguna yang ingin \"lebih banyak yang seperti ini\".\n",
        "- Kelemahan: Model ini menciptakan \"filter bubble\" atau gelembung filter, di mana pengguna akan terus berada di zona nyaman seleranya tanpa pernah menemukan genre atau penulis baru yang mungkin mereka sukai.\n",
        "2. Collaborative Filtering: Kekuatan Penemuan Tak Terduga (Serendipity)\n",
        "\n",
        "Model Collaborative Filtering, yang menggunakan algoritma SVD pada pola rating pengguna, menunjukkan hasil yang sangat berbeda. Dengan RMSE rata-rata sebesar 1.68, model ini memiliki akurasi prediksi yang terukur. Namun, kekuatan sejatinya terletak pada kualitas rekomendasinya.\n",
        "\n",
        "- Kekuatan Utama: Kemampuan serendipity. Seperti yang kita lihat pada contoh hasil, model ini mampu merekomendasikan buku dari genre yang sangat beragam (misalnya, non-fiksi, horor, hingga buku panduan game) dalam satu daftar. Ini terjadi karena model belajar dari \"kearifan kolektif\" (collective wisdom) dari semua pengguna, menemukan koneksi antar item yang tidak terduga dan tidak akan pernah ditemukan oleh analisis konten.\n",
        "- Kelemahan: Menderita cold-start problem (sulit memberi rekomendasi untuk pengguna/buku baru) dan sensitif terhadap \"noise\" atau pola aneh dalam data, terutama pada dataset yang kecil.\n",
        "\n",
        "Kesimpulan Komparatif:\n",
        "\n",
        "- Content-Based Filtering lebih baik untuk memperdalam minat pengguna yang sudah ada.\n",
        "- Collaborative Filtering lebih baik untuk memperluas wawasan dan meningkatkan engagement pengguna dengan membantu mereka menemukan hal-hal baru.\n",
        "\n",
        "Dalam aplikasi dunia nyata, sistem rekomendasi paling canggih seperti pada Netflix atau Amazon tidak memilih salah satu, melainkan menggunakan pendekatan hybrid. Mereka menggabungkan kekuatan keduanya untuk memberikan daftar rekomendasi yang seimbang antara yang \"aman dan relevan\" dengan yang \"baru dan mengejutkan\",ini telah berhasil menunjukkan bahwa kedua model dapat dibangun dan dievaluasi secara efektif untuk menyelesaikan masalah awal. Keduanya mampu menyaring jutaan pilihan menjadi daftar pendek yang dipersonalisasi, dan masing-masing memberikan nilai unik bagi pengalaman pengguna."
      ]
    },
    {
      "cell_type": "markdown",
      "id": "D32cAn1msFwE",
      "metadata": {
        "id": "D32cAn1msFwE"
      },
      "source": [
        "---"
      ]
    },
    {
      "cell_type": "markdown",
      "id": "315cddae",
      "metadata": {
        "id": "315cddae"
      },
      "source": [
        "# Evaluasi"
      ]
    },
    {
      "cell_type": "markdown",
      "id": "061d5a0f",
      "metadata": {
        "_cell_guid": "c184577b-a722-4f2b-ab0a-c8f38ab2a9e2",
        "_uuid": "41e7f87c-e74c-41c4-9946-2c3628ca62cf",
        "collapsed": false,
        "id": "061d5a0f",
        "jupyter": {
          "outputs_hidden": false
        }
      },
      "source": [
        "# Inference"
      ]
    },
    {
      "cell_type": "code",
      "execution_count": 48,
      "id": "TArj8_iqcAi4",
      "metadata": {
        "id": "TArj8_iqcAi4"
      },
      "outputs": [],
      "source": [
        "tfidf = TfidfVectorizer()\n",
        "tfidf_matrix = tfidf.fit_transform(content_filtered_df['features'])"
      ]
    },
    {
      "cell_type": "markdown",
      "id": "DQCywFMJE9OD",
      "metadata": {
        "id": "DQCywFMJE9OD"
      },
      "source": [
        "* ini mengambil kolom teks features (yang berisi gabungan penulis dan penerbit) dan mengubahnya menjadi sebuah matriks angka raksasa yang disebut tfidf_matrix.`tfidf_matrix` ini sekarang merepresentasi matematis dari seluruh katalog buku"
      ]
    },
    {
      "cell_type": "code",
      "execution_count": 49,
      "id": "KiGI15QuZEZC",
      "metadata": {
        "id": "KiGI15QuZEZC"
      },
      "outputs": [],
      "source": [
        "def calculate_content_precision_memory_efficient(df, tfidf_matrix, k=5, sample_size=20):\n",
        "    \"\"\"\n",
        "    Menghitung rata-rata Precision@k secara hemat memori.\n",
        "    \"\"\"\n",
        "    if len(df) < sample_size:\n",
        "        sample_size = len(df)\n",
        "\n",
        "    sample_df = df.sample(n=sample_size, random_state=42)\n",
        "    indices_map = pd.Series(df.index, index=df['Book-Title'])\n",
        "\n",
        "    total_precision = 0\n",
        "\n",
        "    for _, row in sample_df.iterrows():\n",
        "        input_title = row['Book-Title']\n",
        "        input_author = row['Book-Author']\n",
        "\n",
        "        # Dapatkan index dari buku input\n",
        "        try:\n",
        "            idx = indices_map[input_title]\n",
        "        except KeyError:\n",
        "            continue"
      ]
    },
    {
      "cell_type": "markdown",
      "id": "xmldLTHTGAqp",
      "metadata": {
        "id": "xmldLTHTGAqp"
      },
      "source": [
        "menyiapkan fungsi evaluasi diantara tiga hal: 1. Mengambil sampel acak sebanyak 20 buku (sample_df) untuk diuji, 2. Membuat indices_map untuk mencari posisi sebuah buku dengan cepat berdasarkan judulnya, dan 3. Menyiapkan blok try...except untuk menangani jika ada judul buku yang tidak ditemukan.\n"
      ]
    },
    {
      "cell_type": "code",
      "execution_count": 50,
      "id": "ccM8iTSUZMVT",
      "metadata": {
        "id": "ccM8iTSUZMVT"
      },
      "outputs": [],
      "source": [
        "def calculate_content_precision_memory_efficient(df, tfidf_matrix, k=5, sample_size=20):\n",
        "    from sklearn.metrics.pairwise import cosine_similarity\n",
        "\n",
        "    if len(df) < sample_size:\n",
        "        sample_size = len(df)\n",
        "\n",
        "    sample_df = df.sample(n=sample_size, random_state=42)\n",
        "    indices_map = pd.Series(df.index, index=df['Book-Title'])\n",
        "\n",
        "    total_precision = 0\n",
        "    count_valid = 0\n",
        "\n",
        "    for _, row in sample_df.iterrows():\n",
        "        input_title = row['Book-Title']\n",
        "        try:\n",
        "            idx = indices_map[input_title]\n",
        "        except KeyError:\n",
        "            continue\n",
        "\n",
        "        cosine_sim = cosine_similarity(tfidf_matrix[idx], tfidf_matrix).flatten()\n",
        "        sim_scores = list(enumerate(cosine_sim))\n",
        "        sim_scores = sorted(sim_scores, key=lambda x: x[1], reverse=True)\n",
        "\n",
        "        # Ambil k+1 karena item pertama adalah dirinya sendiri\n",
        "        sim_scores = sim_scores[1:k+1]\n",
        "        recommended_indices = [i[0] for i in sim_scores]\n",
        "\n",
        "        recommended_authors = df.iloc[recommended_indices]['Book-Author'].values\n",
        "        true_author = row['Book-Author']\n",
        "\n",
        "        # Precision: seberapa banyak dari k hasil yang penulisnya sama dengan input\n",
        "        relevant = sum([1 for a in recommended_authors if a == true_author])\n",
        "        precision = relevant / k\n",
        "        total_precision += precision\n",
        "        count_valid += 1\n",
        "\n",
        "    avg_precision = total_precision / count_valid if count_valid > 0 else 0\n",
        "    print(f'Precision@{k} untuk Content-Based Filtering: {avg_precision:.4f}')\n"
      ]
    },
    {
      "cell_type": "markdown",
      "id": "1HsDw1N7GBby",
      "metadata": {
        "id": "1HsDw1N7GBby"
      },
      "source": [
        "- Fungsi ini menghitung Precision@k untuk Content-Based Filtering.Kemudian Sistem memilih 20 sampel buku secara acak dari dataset yang sudah difilter.\n",
        "\n",
        "- Untuk tiap buku, dihitung kemiripan (cosine similarity) dengan seluruh buku lainnya berdasarkan vektor TF-IDF lalu diambil k buku paling mirip (tanpa termasuk dirinya sendiri).\n",
        "\n",
        "- Relevansi dievaluasi berdasarkan kesamaan penulis dengan buku awal.\n",
        "\n",
        "- Precision dihitung sebagai rasio buku relevan dalam top-k.Rata-rata precision dari semua sampel ditampilkan sebagai Precision@k akhir."
      ]
    },
    {
      "cell_type": "code",
      "execution_count": 51,
      "id": "QGhMN6WYasOe",
      "metadata": {
        "id": "QGhMN6WYasOe"
      },
      "outputs": [],
      "source": [
        "def calculate_content_precision_memory_efficient(df, tfidf_matrix, k=5, sample_size=20):\n",
        "    from sklearn.metrics.pairwise import cosine_similarity\n",
        "\n",
        "    # Reset index agar indeks tfidf_matrix sejajar dengan df\n",
        "    df = df.reset_index(drop=True)\n",
        "\n",
        "    if len(df) < sample_size:\n",
        "        sample_size = len(df)\n",
        "\n",
        "    sample_df = df.sample(n=sample_size, random_state=42)\n",
        "    indices_map = pd.Series(df.index, index=df['Book-Title'])\n",
        "\n",
        "    total_precision = 0\n",
        "    count_valid = 0\n",
        "\n",
        "    for _, row in sample_df.iterrows():\n",
        "        input_title = row['Book-Title']\n",
        "        input_author = row['Book-Author']\n",
        "\n",
        "        try:\n",
        "            idx = indices_map[input_title]\n",
        "        except KeyError:\n",
        "            continue\n",
        "\n",
        "        cosine_sim = cosine_similarity(tfidf_matrix[idx], tfidf_matrix).flatten()\n",
        "        sim_scores = list(enumerate(cosine_sim))\n",
        "        sim_scores = sorted(sim_scores, key=lambda x: x[1], reverse=True)\n",
        "        sim_scores = sim_scores[1:k+1]  # Skip self\n",
        "\n",
        "        recommended_indices = [i[0] for i in sim_scores]\n",
        "        recommended_authors = df.iloc[recommended_indices]['Book-Author'].values\n",
        "        true_author = row['Book-Author']\n",
        "\n",
        "        relevant = sum([1 for a in recommended_authors if a == true_author])\n",
        "        precision = relevant / k\n",
        "        total_precision += precision\n",
        "        count_valid += 1\n",
        "\n",
        "    avg_precision = total_precision / count_valid if count_valid > 0 else 0\n",
        "    print(f'Precision@{k} untuk Content-Based Filtering: {avg_precision:.4f}')\n"
      ]
    },
    {
      "cell_type": "markdown",
      "id": "07hxwwzUHYBV",
      "metadata": {
        "id": "07hxwwzUHYBV"
      },
      "source": [
        "Pada tahap evaluasi sistem Content-Based Filtering, dilakukan perhitungan metrik Precision@k untuk menilai relevansi rekomendasi yang dihasilkan. Fungsi yang digunakan mengambil sejumlah buku sebagai sampel uji (sebanyak 20 buku), lalu menghitung kemiripan konten antar buku menggunakan teknik cosine similarity berdasarkan representasi vektor dari fitur gabungan (Book-Author dan Publisher) yang telah diproses dengan TF-IDF. Dari hasil perhitungan tersebut, sistem memilih k buku teratas yang paling mirip sebagai rekomendasi. Relevansi ditentukan berdasarkan kesamaan penulis antara buku input dengan hasil rekomendasi — jika penulis sama, rekomendasi dianggap relevan. Precision dihitung sebagai rasio item relevan terhadap jumlah total rekomendasi (k), lalu dirata-ratakan dari seluruh sampel untuk memperoleh nilai Precision@k akhir. Hasil evaluasi ini menunjukkan seberapa baik sistem dalam memberikan rekomendasi konten yang dianggap serupa, meskipun dalam proyek ini, pendekatan berbasis konten masih sederhana dan hanya mempertimbangkan penulis dan penerbit sebagai fitur utama.\n",
        "\n"
      ]
    },
    {
      "cell_type": "code",
      "execution_count": 52,
      "id": "Fu9Hi9gKayP9",
      "metadata": {
        "id": "Fu9Hi9gKayP9"
      },
      "outputs": [],
      "source": [
        "content_filtered_df = content_filtered_df.reset_index(drop=True)"
      ]
    },
    {
      "cell_type": "markdown",
      "id": "kNe7cxfPIrTm",
      "metadata": {
        "id": "kNe7cxfPIrTm"
      },
      "source": [
        "* melakukan reset_index() pada content_filtered_df agar indeksnya sesuai dengan urutan pada tfidf_matrix. Ini penting agar proses pengambilan data berdasarkan indeks tidak menyebabkan error saat perhitungan cosine similarity."
      ]
    },
    {
      "cell_type": "code",
      "execution_count": 53,
      "id": "8BhCRu9GZTno",
      "metadata": {
        "colab": {
          "base_uri": "https://localhost:8080/"
        },
        "id": "8BhCRu9GZTno",
        "outputId": "2458b648-1a71-4a0e-a8f4-e24dee1eab5b"
      },
      "outputs": [
        {
          "name": "stdout",
          "output_type": "stream",
          "text": [
            "Precision@5 untuk Content-Based Filtering: 0.0600\n"
          ]
        }
      ],
      "source": [
        "calculate_content_precision_memory_efficient(content_filtered_df, tfidf_matrix, k=5, sample_size=20)\n"
      ]
    },
    {
      "cell_type": "markdown",
      "id": "A4bOR8V0Iw2N",
      "metadata": {
        "id": "A4bOR8V0Iw2N"
      },
      "source": [
        "* Menggunakan fungsi calculate_content_precision_memory_efficient, sistem menghitung nilai Precision@5 berdasarkan kemiripan antar buku dari vektor TF-IDF. Evaluasi ini menunjukkan bahwa hanya 4% dari top-5 rekomendasi yang dianggap relevan, menandakan model masih perlu ditingkatkan."
      ]
    },
    {
      "cell_type": "code",
      "execution_count": 54,
      "id": "qMfYxynrZYwR",
      "metadata": {
        "colab": {
          "base_uri": "https://localhost:8080/"
        },
        "id": "qMfYxynrZYwR",
        "outputId": "c0ed699f-ab36-49c0-ccd6-a1657b70c22d"
      },
      "outputs": [
        {
          "name": "stdout",
          "output_type": "stream",
          "text": [
            "Evaluating RMSE, MAE of algorithm SVD on 5 split(s).\n",
            "\n",
            "                  Fold 1  Fold 2  Fold 3  Fold 4  Fold 5  Mean    Std     \n",
            "RMSE (testset)    1.3175  1.8427  1.8663  1.5204  1.8524  1.6799  0.2226  \n",
            "MAE (testset)     1.0373  1.5053  1.5111  1.1216  1.4245  1.3200  0.2005  \n",
            "Fit time          0.00    0.00    0.00    0.00    0.00    0.00    0.00    \n",
            "Test time         0.00    0.00    0.00    0.00    0.00    0.00    0.00    \n"
          ]
        },
        {
          "data": {
            "text/plain": [
              "{'test_rmse': array([1.3175461 , 1.84271966, 1.86625536, 1.52043541, 1.8524213 ]),\n",
              " 'test_mae': array([1.03731369, 1.50526262, 1.51111183, 1.12161282, 1.4244991 ]),\n",
              " 'fit_time': (0.0034148693084716797,\n",
              "  0.0030968189239501953,\n",
              "  0.0041828155517578125,\n",
              "  0.003216266632080078,\n",
              "  0.002966165542602539),\n",
              " 'test_time': (0.0003848075866699219,\n",
              "  0.00025534629821777344,\n",
              "  0.0002884864807128906,\n",
              "  0.0002751350402832031,\n",
              "  0.00023937225341796875)}"
            ]
          },
          "execution_count": 54,
          "metadata": {},
          "output_type": "execute_result"
        }
      ],
      "source": [
        "cross_validate(svd, data, measures=['RMSE', 'MAE'], cv=5, verbose=True)"
      ]
    },
    {
      "cell_type": "markdown",
      "id": "bJtMSNdxI6Ia",
      "metadata": {
        "id": "bJtMSNdxI6Ia"
      },
      "source": [
        "Model SVD dievaluasi menggunakan cross_validate() dengan 5-fold cross-validation dan metrik RMSE serta MAE. Hasil evaluasi menunjukkan performa prediksi model yang cukup baik dan stabil dalam memperkirakan rating pengguna terhadap buku."
      ]
    },
    {
      "cell_type": "markdown",
      "id": "00fe08f7",
      "metadata": {
        "_cell_guid": "93660e99-6b1e-421e-ac9e-5152fc773b6c",
        "_uuid": "2a82af61-03ac-4dec-b2db-57ebd4779f68",
        "collapsed": false,
        "id": "00fe08f7",
        "jupyter": {
          "outputs_hidden": false
        }
      },
      "source": [
        "**Metrik Evaluasi:**\n",
        "\n",
        "1. Root Mean Squared Error (RMSE)\n",
        "RMSE mengukur akar dari rata-rata kuadrat selisih antara rating prediksi dan rating aktual. Nilai RMSE yang lebih rendah menunjukkan bahwa model memberikan prediksi yang lebih akurat. Metrik ini sensitif terhadap kesalahan besar dan digunakan untuk mengukur performa keseluruhan dari model.\n",
        "\n",
        "2. Mean Absolute Error (MAE)\n",
        "MAE menghitung rata-rata dari nilai absolut selisih antara rating yang diprediksi dan nilai aktual. MAE memberikan gambaran seberapa jauh prediksi berada dari nilai sebenarnya secara umum, tanpa memperbesar efek outlier seperti pada RMSE.\n",
        "\n",
        "**Hasil Evaluasi (menggunakan 5-Fold Cross-Validation):**\n",
        "- RMSE: 1.8524\n",
        "- MAE: 1.4245"
      ]
    },
    {
      "cell_type": "code",
      "execution_count": 55,
      "id": "WHSrxItZZhlU",
      "metadata": {
        "colab": {
          "base_uri": "https://localhost:8080/"
        },
        "id": "WHSrxItZZhlU",
        "outputId": "bb725b80-057e-44ae-ba99-475b48f70bfd"
      },
      "outputs": [
        {
          "name": "stdout",
          "output_type": "stream",
          "text": [
            "Precision@5 untuk Collaborative Filtering (SVD): 0.2000\n"
          ]
        }
      ],
      "source": [
        "trainset, testset = train_test_split(data, test_size=0.2)\n",
        "svd.fit(trainset)\n",
        "predictions = svd.test(testset)\n",
        "\n",
        "def precision_at_k(predictions, k=5, threshold=7):\n",
        "    \"\"\"Menghitung Precision@k\"\"\"\n",
        "    top_n = defaultdict(list)\n",
        "\n",
        "    for uid, iid, true_r, est, _ in predictions:\n",
        "        top_n[uid].append((iid, est))\n",
        "\n",
        "    # Urutkan dan ambil top-k\n",
        "    for uid, user_ratings in top_n.items():\n",
        "        user_ratings.sort(key=lambda x: x[1], reverse=True)\n",
        "        top_n[uid] = user_ratings[:k]\n",
        "\n",
        "    precisions = []\n",
        "\n",
        "    for uid, user_ratings in top_n.items():\n",
        "        n_rel = sum((est >= threshold) for (_, est) in user_ratings)\n",
        "        precisions.append(n_rel / k)\n",
        "\n",
        "    return sum(precisions) / len(precisions)\n",
        "\n",
        "p_at_5 = precision_at_k(predictions, k=5, threshold=7)\n",
        "print(f'Precision@5 untuk Collaborative Filtering (SVD): {p_at_5:.4f}')\n"
      ]
    },
    {
      "cell_type": "markdown",
      "id": "EscXZuvrKIHa",
      "metadata": {
        "id": "EscXZuvrKIHa"
      },
      "source": [
        "Analisi menggunakan metrik Precision@5 untuk mengukur relevansi rekomendasi dalam konteks top-N recommendation. Model dilatih menggunakan 80% data sebagai trainset dan diuji pada 20% sisanya (testset). Untuk setiap pengguna, sistem memilih lima buku dengan prediksi rating tertinggi, dan item dinilai relevan jika prediksinya ≥ 7. Precision dihitung sebagai proporsi item relevan dari total top-5 rekomendasi dan dirata-ratakan untuk seluruh pengguna.\n",
        "\n",
        "Hasil evaluasi menunjukkan bahwa model SVD berhasil mencapai Precision@5 sebesar 0.2000, yang berarti sekitar 20.00% dari rekomendasi yang diberikan dianggap relevan. Meskipun tidak sangat tinggi, nilai ini menunjukkan bahwa model mampu memberikan rekomendasi yang cukup baik dan lebih relevan dibandingkan pendekatan content-based sederhana, terutama dalam konteks dataset yang cukup sparse."
      ]
    },
    {
      "cell_type": "code",
      "execution_count": 56,
      "id": "eef8fad5",
      "metadata": {
        "_cell_guid": "bc2b9171-6133-44f5-8043-32392fd580ac",
        "_uuid": "704bff7b-020b-4ca3-b94e-7b1587f3e9cf",
        "colab": {
          "base_uri": "https://localhost:8080/"
        },
        "execution": {
          "iopub.execute_input": "2025-05-23T05:54:15.040778Z",
          "iopub.status.busy": "2025-05-23T05:54:15.040468Z",
          "iopub.status.idle": "2025-05-23T05:54:16.144568Z",
          "shell.execute_reply": "2025-05-23T05:54:16.143991Z",
          "shell.execute_reply.started": "2025-05-23T05:54:15.040757Z"
        },
        "id": "eef8fad5",
        "jupyter": {
          "outputs_hidden": false
        },
        "outputId": "e93a9703-8189-40b1-a1db-89ff45fc6cc6"
      },
      "outputs": [
        {
          "name": "stdout",
          "output_type": "stream",
          "text": [
            "Model SVD berhasil disimpan sebagai 'best_model.pkl'\n"
          ]
        }
      ],
      "source": [
        "with open('best_model.pkl', 'wb') as f:\n",
        "    pickle.dump(svd, f)\n",
        "\n",
        "print(\"Model SVD berhasil disimpan sebagai 'best_model.pkl'\")\n"
      ]
    },
    {
      "cell_type": "markdown",
      "id": "0d2e9bf5",
      "metadata": {
        "_cell_guid": "d26c28e2-3724-4f40-bba7-b16b076d6be6",
        "_uuid": "1b8f8178-1d07-408e-850e-7d64e05bda7f",
        "collapsed": false,
        "id": "0d2e9bf5",
        "jupyter": {
          "outputs_hidden": false
        }
      },
      "source": [
        "Model disimpan dalam format .pkl"
      ]
    }
  ],
  "metadata": {
    "accelerator": "GPU",
    "colab": {
      "gpuType": "T4",
      "provenance": []
    },
    "kernelspec": {
      "display_name": "Python 3",
      "name": "python3"
    },
    "language_info": {
      "name": "python"
    }
  },
  "nbformat": 4,
  "nbformat_minor": 5
}
